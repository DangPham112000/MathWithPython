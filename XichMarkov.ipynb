{
 "cells": [
  {
   "cell_type": "markdown",
   "metadata": {},
   "source": [
    "# Tạo dãy n số có tổng bằng 1"
   ]
  },
  {
   "cell_type": "code",
   "execution_count": 2,
   "metadata": {},
   "outputs": [
    {
     "name": "stdout",
     "output_type": "stream",
     "text": [
      "[0.12196719945997765, 0.08006651133617504, 0.060137416419023475, 0.10016321967397047, 0.0038387042592679496, 0.09851275320928331, 0.03124111246053283, 0.15179415729017667, 0.006068091620217845, 0.03202259532419729, 0.00885540968765183, 0.09272638200830445, 0.12218040044632347, 0.0662654874285681, 0.024160559376329566]\n",
      "0.9999999999999999\n"
     ]
    }
   ],
   "source": [
    "# Áp dụng cho xác suất\n",
    "import random\n",
    "def randomSum1(n):\n",
    "    DEFSUM=1\n",
    "    res=[]\n",
    "    sum=0\n",
    "    for i in range(n):\n",
    "        res.append(random.uniform(0,100))\n",
    "        sum+=res[i]\n",
    "    sum2=0\n",
    "    for i in range(n):\n",
    "        res[i]=(res[i]*DEFSUM/sum)\n",
    "        sum2+=res[i]\n",
    "    return res\n",
    "v=randomSum1(15)\n",
    "print(v)\n",
    "sum=0\n",
    "for vi in v:\n",
    "    sum+=vi\n",
    "print(sum)"
   ]
  },
  {
   "cell_type": "code",
   "execution_count": 1,
   "metadata": {},
   "outputs": [
    {
     "name": "stdout",
     "output_type": "stream",
     "text": [
      "[0.6125000000000002, 0.38750000000000007]\n",
      "[0.7, 0.2, 0.1]\n",
      "[0.22999999999999998, 0.52, 0.25]\n",
      "[0.273, 0.39599999999999996, 0.331]\n"
     ]
    }
   ],
   "source": [
    "# Tìm pi\n",
    "def Tichvohuong(a,b):\n",
    "    tvh = 0\n",
    "    for i in range(len(a)):\n",
    "        tvh += a[i] * b[i]\n",
    "    return tvh\n",
    "\n",
    "#chuyển vị mtr\n",
    "def tranpose(A):\n",
    "    sodong=len(A)\n",
    "    socot=len(A[0])\n",
    "    return [[A[i][j] for i in range(sodong) ] for j in range(socot)]\n",
    "\n",
    "def Vector_x_Matrix(v,A):\n",
    "    # Số dòng không bằng kích thước của vector\n",
    "    if (len(v)!=len(A)):\n",
    "        print('Kích thước của vector không bằng số dòng trong mtr, vui lòng nhập lại')\n",
    "        return None\n",
    "    result=[]\n",
    "    A=tranpose(A)\n",
    "    for i in range(len(A)):\n",
    "        result.append(Tichvohuong(A[i],v))\n",
    "    return result\n",
    "\n",
    "P = [[0.8,0.2],[0.3,0.7]]\n",
    "pi0 = [1,0]\n",
    "pi1=Vector_x_Matrix(pi0,P)\n",
    "pi2=Vector_x_Matrix(pi1,P)\n",
    "pi3=Vector_x_Matrix(pi2,P)\n",
    "pi4=Vector_x_Matrix(pi3,P)\n",
    "pi5=Vector_x_Matrix(pi4,P)\n",
    "print(pi5)\n",
    "P = [[0.2,0.6,0.2],[0.1,0.4,0.5],[0.7,0.2,0.1]]\n",
    "pi0=[0,0,1]\n",
    "pi1=Vector_x_Matrix(pi0,P)\n",
    "print(pi1)\n",
    "pi2=Vector_x_Matrix(pi1,P)\n",
    "print(pi2)\n",
    "pi3=Vector_x_Matrix(pi2,P)\n",
    "print(pi3)"
   ]
  },
  {
   "cell_type": "code",
   "execution_count": 3,
   "metadata": {},
   "outputs": [
    {
     "data": {
      "text/plain": [
       "[[0.19, -0.26, 0], [-0.19, 0.26, 0]]"
      ]
     },
     "execution_count": 3,
     "metadata": {},
     "output_type": "execute_result"
    }
   ],
   "source": [
    "def lamtronmatran(A):\n",
    "    for i in range(len(A)):\n",
    "        for j in range(len(A[i])):\n",
    "            A[i][j]=round(A[i][j],2)\n",
    "    return A\n",
    "P=[[0.18999999999999995, -0.26, 0], [-0.19, 0.26, 0]]\n",
    "lamtronmatran(P)"
   ]
  },
  {
   "cell_type": "code",
   "execution_count": 6,
   "metadata": {},
   "outputs": [
    {
     "name": "stdout",
     "output_type": "stream",
     "text": [
      "[[0, 1, 2], [-1, 0, 1], [-1, 0, 1]]\n"
     ]
    },
    {
     "data": {
      "text/plain": [
       "[[1, 0, 0, 0, 0, 0, 0],\n",
       " [0, 1, 0, 0, 0, 0, 0],\n",
       " [0, 0, 1, 0, 0, 0, 0],\n",
       " [0, 0, 0, 1, 0, 0, 0],\n",
       " [0, 0, 0, 0, 1, 0, 0],\n",
       " [0, 0, 0, 0, 0, 1, 0],\n",
       " [0, 0, 0, 0, 0, 0, 1]]"
      ]
     },
     "execution_count": 6,
     "metadata": {},
     "output_type": "execute_result"
    }
   ],
   "source": [
    "# Tính hiệu 2 ma trận\n",
    "def tinhhieu2matran(A, B):\n",
    "    if len(A[0])!=len(B[0]) or len(A)!=len(B):\n",
    "        print(\"2 ma trận có số chiều không bằng nhau\")\n",
    "        return None\n",
    "    result=[]\n",
    "    return [[A[i][j]-B[i][j] for j in range(len(A[0]))] for i in range(len(A))];\n",
    "A = [[1,2,3],[1,2,3],[2,3,4]]\n",
    "B = [[1,1,1],[2,2,2],[3,3,3]]\n",
    "print(tinhhieu2matran(A, B))\n",
    "\n",
    "# ma trận I\n",
    "def matranI(n):\n",
    "    return [[1 if i==j else 0 for j in range(n)] for i in range(n)];\n",
    "matranI(7)"
   ]
  },
  {
   "cell_type": "code",
   "execution_count": 9,
   "metadata": {},
   "outputs": [
    {
     "name": "stdout",
     "output_type": "stream",
     "text": [
      "[[1, 2, -1, -1], [2, 2, 1, 1], [3, 5, -2, -1]]\n",
      "[[1.0, 2.0, -1.0, -1.0], [-0.0, 1.0, -1.5, -1.5], [-0.0, -0.0, 1.0, -1.0]]\n",
      "[[1.0, 2.0, -1.0, -1.0], [-0.0, 1.0, -1.5, -1.5], [-0.0, -0.0, 1.0, -1.0]]\n",
      "[[0.6666666666666667, -0.75, 0], [-0.6666666666666666, 0.75, 0]]\n",
      "[[1.0, -1.1249999999999998, 0.0], [0.0, 1.0, 0.0]]\n",
      "[[1.0, -1.1249999999999998, 0.0], [0.0, 1.0, 0.0]]\n"
     ]
    },
    {
     "data": {
      "text/plain": [
       "[0.0, 0.0]"
      ]
     },
     "execution_count": 9,
     "metadata": {},
     "output_type": "execute_result"
    }
   ],
   "source": [
    "# Hoán vị dòng i với dòng j trong mtr A\n",
    "def swapRow(A,i,j):\n",
    "    B=A[i]\n",
    "    A[i]=A[j]\n",
    "    A[j]=B\n",
    "    return A\n",
    "A = [[1,2,3],[4,5,6],[7,8,9]]\n",
    "swapRow(A,1,2)\n",
    "# Lấy 1 dòng mtr A nhân với 1 hệ số k\n",
    "def rowMultK(A,i,k):\n",
    "    for j in range(len(A[i])):\n",
    "        A[i][j]=A[i][j]*k\n",
    "    return A\n",
    "A = [[1,2,3],[4,5,6],[7,8,9]]\n",
    "rowMultK(A,0,2)\n",
    "# trừ 1 dòng với k lần dòng khác trong mtr A\n",
    "def rowMinusKRow(A,i1,i2,k):\n",
    "    for j in range(len(A[i1])):\n",
    "        A[i1][j]=A[i1][j]-k*A[i2][j]\n",
    "    return A\n",
    "A = [[1,2,3],[4,5,6],[7,8,9]]\n",
    "rowMinusKRow(A,0,1,2)\n",
    "\n",
    "# Kiểm tra cột j có toàn là 0 hay không\n",
    "def checkColumnFull0(A,j):\n",
    "    for i in range(len(A)):\n",
    "        if (A[i][j]!=0):\n",
    "            return False\n",
    "    return True\n",
    "A = [[0,2,3],[0,5,6],[0,8,9]]\n",
    "checkColumnFull0(A,1)\n",
    "\n",
    "def Gauss(A):\n",
    "    resultA=[]\n",
    "    while len(A)!=0:\n",
    "    #     B1\n",
    "        defC=0\n",
    "        for j in range(len(A[0])):\n",
    "            if (not checkColumnFull0(A,j)):\n",
    "                defC=j\n",
    "                break\n",
    "    #     B2\n",
    "        if (A[0][defC]!=0):\n",
    "            for i in range(len(A)):\n",
    "                if A[i][defC]!=0:\n",
    "                    A=swapRow(A,i,0)\n",
    "                    break\n",
    "    #     B3\n",
    "        if (A[0][defC]!=0):\n",
    "            k=1/A[0][defC]\n",
    "            A=rowMultK(A,0,k)\n",
    "        resultA.append(A[0])\n",
    "    #     B4\n",
    "        for i in range(len(A)):\n",
    "            if (i==0):\n",
    "                continue\n",
    "            A=rowMinusKRow(A,i,0,A[i][defC])\n",
    "        A.pop(0)\n",
    "    return resultA\n",
    "A=[[1,2,-1,-1],[2,2,1,1],[3,5,-2,-1]]\n",
    "Gauss(A)\n",
    "B=[[1,-2,-1,1],[2,-3,1,6],[3,-5,0,7],[1,0,5,9]]\n",
    "Gauss(B)\n",
    "\n",
    "def taoMtrBS(A,b):\n",
    "    for i in range(len(A)):\n",
    "        A[i].append(b[i])\n",
    "    return A\n",
    "\n",
    "def delRow0(A1):\n",
    "    stack=[]\n",
    "    A=A1.copy()\n",
    "    for i in range(len(A)):\n",
    "        isFull0=True\n",
    "        for j in range(len(A[i])):\n",
    "            if (A[i][j]!=0):\n",
    "                isFull0=False\n",
    "                break\n",
    "        if (isFull0):\n",
    "            stack.append(i)\n",
    "#     print(stack)\n",
    "#     Vòng for ngược từ cuối về 0\n",
    "    for i in range(len(stack)-1,-1,-1):\n",
    "        A.pop(stack[i])\n",
    "    return A\n",
    "            \n",
    "def solveMatrix(A,b):\n",
    "    if (len(A)!=len(b)):\n",
    "        print('Error input')\n",
    "        return None\n",
    "    Abs=taoMtrBS(A,b)\n",
    "    print(Abs)\n",
    "    Abs=Gauss(Abs)\n",
    "    print(Abs)\n",
    "    Aclear=delRow0(Abs)\n",
    "    if (len(Aclear)==len(Aclear[0])-1):\n",
    "        Abs=Aclear\n",
    "    print(Abs)\n",
    "    if (Abs[len(Abs)-1][len(Abs[0])-2]==0):\n",
    "        if (Abs[len(Abs)-1][len(Abs[0])-1]==0):\n",
    "            print('Hệ phương trình vô số nghiệm')\n",
    "            return None\n",
    "        else:\n",
    "            print('Hệ phương trình vô nghiệm')\n",
    "            return None\n",
    "    if (len(Abs[0])-1>len(Abs)):\n",
    "            print('Hệ phương trình vô số nghiệm')\n",
    "            return None\n",
    "#     Phương pháp thế ngược\n",
    "#     Khởi tạo giá trị tạm thời cho vector nghiệm X\n",
    "    X=[]\n",
    "    for i in range(len(Abs[0])-1):\n",
    "        X.append(0)\n",
    "    n=len(Abs)\n",
    "    for i in range(1,n+1):\n",
    "        sum=0\n",
    "        for j in range (1,i):\n",
    "            sum+=X[n-j]*Abs[n-i][n-j]\n",
    "        X[n-i]=(Abs[n-i][n]-sum)/Abs[n-i][n-i]\n",
    "    return X\n",
    "\n",
    "# A=[[1,-2,-1],[2,-3,1],[3,-5,0],[1,0,5]]\n",
    "# b=[1,6,7,9]\n",
    "# solveMatrix(A,b)\n",
    "\n",
    "\n",
    "A=[[1,2,-1],[2,2,1],[3,5,-2]]\n",
    "b=[-1,1,-1]\n",
    "solveMatrix(A,b)\n",
    "a= [[0.6666666666666667, -0.75], [-0.6666666666666666, 0.75]]\n",
    "b=[0,0]\n",
    "solveMatrix(a,b)"
   ]
  },
  {
   "cell_type": "code",
   "execution_count": 10,
   "metadata": {},
   "outputs": [
    {
     "name": "stdout",
     "output_type": "stream",
     "text": [
      "[[0.6666666666666667, -0.5, 0, 0], [-0.3333333333333333, 1, -0.3333333333333333, 0], [-0.3333333333333333, -0.5, 0.25, 0]]\n",
      "[[1.0, -0.7499999999999999, 0.0, 0.0], [0.0, 1.0, -0.4444444444444444, 0.0], [-0.0, -0.0, 1.0, -0.0]]\n",
      "[[1.0, -0.7499999999999999, 0.0, 0.0], [0.0, 1.0, -0.4444444444444444, 0.0], [-0.0, -0.0, 1.0, -0.0]]\n"
     ]
    },
    {
     "data": {
      "text/plain": [
       "[0.0, 0.0, -0.0]"
      ]
     },
     "execution_count": 10,
     "metadata": {},
     "output_type": "execute_result"
    }
   ],
   "source": [
    "# Tìm phân phối dừng\n",
    "# pi = pi*P <=> (I-transpose(P))*transpose(pi)=0 (đưa về dạng AX=0)\n",
    "def TinhPhanPhoiDung(P):\n",
    "    if (len(P)!=(len(P[0]))):\n",
    "        print('Loi! So dong khong bang so cot, moi nhap lai')\n",
    "        return None\n",
    "    I=matranI(len(P))\n",
    "    PT=tranpose(P)\n",
    "    A=tinhhieu2matran(I,PT)\n",
    "#     A=lamtronmatran(A)\n",
    "    result=[]\n",
    "    b=P[0].copy()\n",
    "    for i in range(len(b)):\n",
    "        b[i]=0\n",
    "    result=solveMatrix(A,b)\n",
    "    return result\n",
    "# P=[[1/3,2/3],[3/4,1/4]]\n",
    "# TinhPhanPhoiDung(P)\n",
    "# P=[[0.81,0.19],[0.26,0.74]]\n",
    "# TinhPhanPhoiDung(P)\n",
    "P=[[1/3,1/3,1/3],[1/2,0,1/2],[0,1/3,3/4]]\n",
    "TinhPhanPhoiDung(P)"
   ]
  },
  {
   "cell_type": "code",
   "execution_count": null,
   "metadata": {},
   "outputs": [],
   "source": []
  }
 ],
 "metadata": {
  "kernelspec": {
   "display_name": "Python 3",
   "language": "python",
   "name": "python3"
  },
  "language_info": {
   "codemirror_mode": {
    "name": "ipython",
    "version": 3
   },
   "file_extension": ".py",
   "mimetype": "text/x-python",
   "name": "python",
   "nbconvert_exporter": "python",
   "pygments_lexer": "ipython3",
   "version": "3.8.5"
  }
 },
 "nbformat": 4,
 "nbformat_minor": 4
}
