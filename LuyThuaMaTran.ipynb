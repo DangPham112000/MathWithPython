{
 "cells": [
  {
   "cell_type": "code",
   "execution_count": 1,
   "metadata": {},
   "outputs": [
    {
     "data": {
      "text/plain": [
       "[[2, 8, 14], [4, 10, 16], [6, 12, 18]]"
      ]
     },
     "execution_count": 1,
     "metadata": {},
     "output_type": "execute_result"
    }
   ],
   "source": [
    "#chuyển vị mtr\n",
    "def tranpose(A):\n",
    "    sodong=len(A)\n",
    "    socot=len(A[0])\n",
    "    return [[A[i][j] for i in range(sodong) ] for j in range(socot)]\n",
    "A = [[2, 4, 6], [8, 10, 12], [14, 16, 18]]\n",
    "A\n",
    "tranpose(A)"
   ]
  },
  {
   "cell_type": "code",
   "execution_count": 2,
   "metadata": {},
   "outputs": [
    {
     "data": {
      "text/plain": [
       "-7"
      ]
     },
     "execution_count": 2,
     "metadata": {},
     "output_type": "execute_result"
    }
   ],
   "source": [
    "def Tichvohuong(a,b):\n",
    "    tvh = 0\n",
    "    for i in range(len(a)):\n",
    "        tvh += a[i] * b[i]\n",
    "    return tvh\n",
    "x=[-1,2,2]\n",
    "y=[1,0,-3]\n",
    "Tichvohuong(x,y)"
   ]
  },
  {
   "cell_type": "code",
   "execution_count": 3,
   "metadata": {},
   "outputs": [
    {
     "name": "stdout",
     "output_type": "stream",
     "text": [
      "[[7, 10], [15, 22]]\n"
     ]
    }
   ],
   "source": [
    "def vectordong_x_Matrix(v,A):\n",
    "    w=[]\n",
    "    A=tranpose(A)\n",
    "    for i in range(len(A)):\n",
    "        w.append(Tichvohuong(v,A[i]))\n",
    "    return w\n",
    "def Nhanmatran(A,B):\n",
    "    AB=[]\n",
    "    #tự kiểm tra số cột mtrA = số dòng mtrB\n",
    "    if (len(A[0])!=len(B)):\n",
    "        print('Lỗi! Số cột mtr1 không bằng số dòng mtr2')\n",
    "        return None\n",
    "    for i in range(len(A)):\n",
    "        AB.append(vectordong_x_Matrix(A[i],B))\n",
    "    return AB\n",
    "A = [[1,2],[3,4]]\n",
    "B =  [[1,2],[3,4]]\n",
    "print(Nhanmatran(A,B))"
   ]
  },
  {
   "cell_type": "code",
   "execution_count": 4,
   "metadata": {},
   "outputs": [
    {
     "data": {
      "text/plain": [
       "[1, 2, 4, 8, 16]"
      ]
     },
     "execution_count": 4,
     "metadata": {},
     "output_type": "execute_result"
    }
   ],
   "source": [
    "def danhsachsomucantinh(n):\n",
    "    result=[1]\n",
    "    for i in range(n):\n",
    "        if (result[len(result)-1]*2<=n):\n",
    "            result.append(result[len(result)-1]*2)\n",
    "    return result\n",
    "danhsachsomucantinh(17)  "
   ]
  },
  {
   "cell_type": "code",
   "execution_count": 5,
   "metadata": {},
   "outputs": [
    {
     "data": {
      "text/plain": [
       "[1, 16]"
      ]
     },
     "execution_count": 5,
     "metadata": {},
     "output_type": "execute_result"
    }
   ],
   "source": [
    "def phantichsomu(n):\n",
    "    dsmu=danhsachsomucantinh(n)\n",
    "    dsphantich=[]\n",
    "    sum=0\n",
    "    while sum<n:\n",
    "        for i in range(len(dsmu)-1,-1,-1):\n",
    "            if (sum+dsmu[i]<=n):\n",
    "                dsphantich.append(dsmu[i])\n",
    "                sum+=dsmu[i]\n",
    "    result=[]\n",
    "    for i in range(len(dsphantich)-1,-1,-1):\n",
    "        result.append(dsphantich[i])\n",
    "    return result\n",
    "phantichsomu(17)"
   ]
  },
  {
   "cell_type": "code",
   "execution_count": 6,
   "metadata": {},
   "outputs": [
    {
     "data": {
      "text/plain": [
       "[[25699957, 37455814], [56183721, 81883678]]"
      ]
     },
     "execution_count": 6,
     "metadata": {},
     "output_type": "execute_result"
    }
   ],
   "source": [
    "def Luythuamatran(A,k):\n",
    "    dsmtr=[]\n",
    "    dsmtr.append(A)\n",
    "    dssmct=danhsachsomucantinh(k)\n",
    "    dssmpt=phantichsomu(k)\n",
    "    for i in range(len(dssmct)-1):\n",
    "        dsmtr.append(Nhanmatran(dsmtr[len(dsmtr)-1],dsmtr[len(dsmtr)-1]))\n",
    "        \n",
    "    result=dsmtr[len(dsmtr)-1].copy()\n",
    "    for i in range(len(dssmpt)-1):\n",
    "        for j in range(len(dssmct)-1):\n",
    "            if (dssmct[j]==dssmpt[i]):\n",
    "                result=Nhanmatran(result,dsmtr[i])\n",
    "    return result\n",
    "    \n",
    "A = [[1,2],[3,4]]\n",
    "Luythuamatran(A,11)"
   ]
  },
  {
   "cell_type": "code",
   "execution_count": null,
   "metadata": {},
   "outputs": [],
   "source": []
  }
 ],
 "metadata": {
  "kernelspec": {
   "display_name": "Python 3",
   "language": "python",
   "name": "python3"
  },
  "language_info": {
   "codemirror_mode": {
    "name": "ipython",
    "version": 3
   },
   "file_extension": ".py",
   "mimetype": "text/x-python",
   "name": "python",
   "nbconvert_exporter": "python",
   "pygments_lexer": "ipython3",
   "version": "3.8.5"
  }
 },
 "nbformat": 4,
 "nbformat_minor": 4
}
