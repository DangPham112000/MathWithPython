{
 "cells": [
  {
   "cell_type": "markdown",
   "metadata": {},
   "source": [
    "Họ tên: Phạm Hải Đăng\n",
    "\n",
    "MSSV: 18120302\n",
    "\n",
    "Lớp: CQ2018/21\n",
    "\n",
    "Nhóm: 1"
   ]
  },
  {
   "cell_type": "markdown",
   "metadata": {},
   "source": [
    "# Câu 1"
   ]
  },
  {
   "cell_type": "code",
   "execution_count": 30,
   "metadata": {},
   "outputs": [
    {
     "data": {
      "text/plain": [
       "-7"
      ]
     },
     "execution_count": 30,
     "metadata": {},
     "output_type": "execute_result"
    }
   ],
   "source": [
    "# Tính tích vô hướng của 2 vector a và vector b\n",
    "def Tichvohuong(a,b):\n",
    "    tvh = 0\n",
    "    for i in range(len(a)):\n",
    "        tvh += a[i] * b[i]\n",
    "    return tvh\n",
    "x=[-1,2,2]\n",
    "y=[1,0,-3]\n",
    "Tichvohuong(x,y)"
   ]
  },
  {
   "cell_type": "code",
   "execution_count": 31,
   "metadata": {},
   "outputs": [
    {
     "data": {
      "text/plain": [
       "[[2, 8, 14], [4, 10, 16], [6, 12, 18]]"
      ]
     },
     "execution_count": 31,
     "metadata": {},
     "output_type": "execute_result"
    }
   ],
   "source": [
    "# Chuyển vị ma trận A\n",
    "def tranpose(A):\n",
    "    sodong=len(A)\n",
    "    socot=len(A[0])\n",
    "    return [[A[i][j] for i in range(sodong) ] for j in range(socot)]\n",
    "A=[[2, 4, 6], [8, 10, 12], [14, 16, 18]]\n",
    "tranpose(A)"
   ]
  },
  {
   "cell_type": "code",
   "execution_count": 32,
   "metadata": {},
   "outputs": [
    {
     "name": "stdout",
     "output_type": "stream",
     "text": [
      "[[7, 10], [15, 22]]\n"
     ]
    }
   ],
   "source": [
    "# Nhân 1 vector dòng với 1 ma trận\n",
    "def vectordong_x_Matrix(v,A):\n",
    "    w=[]\n",
    "    A=tranpose(A)\n",
    "    for i in range(len(A)):\n",
    "        w.append(Tichvohuong(v,A[i]))\n",
    "    return w\n",
    "\n",
    "# Nhân 1 ma trận A với ma trận B\n",
    "def Nhanmatran(A,B):\n",
    "    AB=[]\n",
    "    if (A is None) or (B is None):\n",
    "        print('Lỗi! Có ma trận không có giá trị')\n",
    "        return None\n",
    "    if (len(A[0])!=len(B)):\n",
    "        print('Lỗi! Số cột ma trận 1 không bằng số dòng ma trận 2')\n",
    "        return None\n",
    "    for i in range(len(A)):\n",
    "        AB.append(vectordong_x_Matrix(A[i],B))\n",
    "    return AB\n",
    "A = [[1,2],[3,4]]\n",
    "B =  [[1,2],[3,4]]\n",
    "print(Nhanmatran(A,B))"
   ]
  },
  {
   "cell_type": "code",
   "execution_count": 19,
   "metadata": {},
   "outputs": [
    {
     "name": "stdout",
     "output_type": "stream",
     "text": [
      "[[2, 3, 4], [3, 4, 5], [5, 6, 7]]\n"
     ]
    }
   ],
   "source": [
    "# Tính tổng của ma trận A với ma trận B\n",
    "def tinhtong2matran(A, B):\n",
    "    if len(A[0])!=len(B[0]) or len(A)!=len(B):\n",
    "        print(\"Lỗi! 2 ma trận cộng nhau có số chiều không bằng nhau\")\n",
    "        return None\n",
    "    result=[]\n",
    "    return [[A[i][j]+B[i][j] for j in range(len(A[0]))] for i in range(len(A))];\n",
    "A = [[1,2,3],[1,2,3],[2,3,4]]\n",
    "B = [[1,1,1],[2,2,2],[3,3,3]]\n",
    "print(tinhtong2matran(A, B))"
   ]
  },
  {
   "cell_type": "markdown",
   "metadata": {},
   "source": [
    "### Ví dụ áp dụng"
   ]
  },
  {
   "cell_type": "code",
   "execution_count": 27,
   "metadata": {},
   "outputs": [],
   "source": [
    "A=[[1,-3,2],[3,-4,1],[2,-5,3]]\n",
    "B=[[1,3],[0,1],[2,-2]]\n",
    "C=[[5,0,2,3],[4,1,5,3]]"
   ]
  },
  {
   "cell_type": "code",
   "execution_count": 24,
   "metadata": {},
   "outputs": [
    {
     "data": {
      "text/plain": [
       "[[5, -4], [5, 3], [8, -5]]"
      ]
     },
     "execution_count": 24,
     "metadata": {},
     "output_type": "execute_result"
    }
   ],
   "source": [
    "# AB\n",
    "Nhanmatran(A,B)"
   ]
  },
  {
   "cell_type": "code",
   "execution_count": 22,
   "metadata": {},
   "outputs": [
    {
     "name": "stdout",
     "output_type": "stream",
     "text": [
      "Lỗi! 2 ma trận cộng nhau có số chiều không bằng nhau\n",
      "Lỗi! Có ma trận không có giá trị\n"
     ]
    }
   ],
   "source": [
    "# A(B+C)\n",
    "BplusC=tinhtong2matran(B, C)\n",
    "Nhanmatran(A,BplusC)"
   ]
  },
  {
   "cell_type": "code",
   "execution_count": 28,
   "metadata": {},
   "outputs": [
    {
     "data": {
      "text/plain": [
       "[[9, -4, -10, 3], [37, 3, 25, 24], [20, -5, -9, 9]]"
      ]
     },
     "execution_count": 28,
     "metadata": {},
     "output_type": "execute_result"
    }
   ],
   "source": [
    "# ABC\n",
    "AxB=Nhanmatran(A,B)\n",
    "Nhanmatran(AxB,C)"
   ]
  },
  {
   "cell_type": "code",
   "execution_count": 26,
   "metadata": {},
   "outputs": [
    {
     "data": {
      "text/plain": [
       "[[5, -13, 8], [2, -3, 1]]"
      ]
     },
     "execution_count": 26,
     "metadata": {},
     "output_type": "execute_result"
    }
   ],
   "source": [
    "# B^T.A\n",
    "Btran=tranpose(B)\n",
    "Nhanmatran(Btran,A)"
   ]
  },
  {
   "cell_type": "code",
   "execution_count": 29,
   "metadata": {},
   "outputs": [
    {
     "name": "stdout",
     "output_type": "stream",
     "text": [
      "Lỗi! Số cột ma trận 1 không bằng số dòng ma trận 2\n"
     ]
    }
   ],
   "source": [
    "# B.C^T\n",
    "Ctran=tranpose(C)\n",
    "Nhanmatran(B,Ctran)"
   ]
  },
  {
   "cell_type": "markdown",
   "metadata": {},
   "source": [
    "# Câu 2"
   ]
  },
  {
   "cell_type": "code",
   "execution_count": 34,
   "metadata": {},
   "outputs": [
    {
     "data": {
      "text/plain": [
       "[1, 2, 4, 8, 16]"
      ]
     },
     "execution_count": 34,
     "metadata": {},
     "output_type": "execute_result"
    }
   ],
   "source": [
    "# Tính danh sách các số mũ mà ta cần tính\n",
    "def danhsachsomucantinh(n):\n",
    "    result=[1]\n",
    "    for i in range(n):\n",
    "        if (result[len(result)-1]*2<=n):\n",
    "            result.append(result[len(result)-1]*2)\n",
    "    return result\n",
    "danhsachsomucantinh(17)  "
   ]
  },
  {
   "cell_type": "code",
   "execution_count": 51,
   "metadata": {},
   "outputs": [
    {
     "data": {
      "text/plain": [
       "[1, 4]"
      ]
     },
     "execution_count": 51,
     "metadata": {},
     "output_type": "execute_result"
    }
   ],
   "source": [
    "# Phân tích số mũ yêu cầu tính ra các số mũ nhỏ hơn \n",
    "def phantichsomu(n):\n",
    "    dsmu=danhsachsomucantinh(n)\n",
    "    dsphantich=[]\n",
    "    sum=0\n",
    "    while sum<n:\n",
    "        for i in range(len(dsmu)-1,-1,-1):\n",
    "            if (sum+dsmu[i]<=n):\n",
    "                dsphantich.append(dsmu[i])\n",
    "                sum+=dsmu[i]\n",
    "    result=[]\n",
    "    for i in range(len(dsphantich)-1,-1,-1):\n",
    "        result.append(dsphantich[i])\n",
    "    return result\n",
    "phantichsomu(5)"
   ]
  },
  {
   "cell_type": "code",
   "execution_count": 36,
   "metadata": {},
   "outputs": [
    {
     "data": {
      "text/plain": [
       "[[25699957, 37455814], [56183721, 81883678]]"
      ]
     },
     "execution_count": 36,
     "metadata": {},
     "output_type": "execute_result"
    }
   ],
   "source": [
    "# Tính luỹ thừa của ma trận A mũ k\n",
    "def Luythuamatran(A,k):\n",
    "    dsmtr=[]\n",
    "    dsmtr.append(A)\n",
    "    dssmct=danhsachsomucantinh(k)\n",
    "    dssmpt=phantichsomu(k)\n",
    "    for i in range(len(dssmct)-1):\n",
    "        dsmtr.append(Nhanmatran(dsmtr[len(dsmtr)-1],dsmtr[len(dsmtr)-1]))\n",
    "        \n",
    "    result=dsmtr[len(dsmtr)-1].copy()\n",
    "    for i in range(len(dssmpt)-1):\n",
    "        for j in range(len(dssmct)-1):\n",
    "            if (dssmct[j]==dssmpt[i]):\n",
    "                result=Nhanmatran(result,dsmtr[i])\n",
    "    return result\n",
    "    \n",
    "A = [[1,2],[3,4]]\n",
    "Luythuamatran(A,11)"
   ]
  },
  {
   "cell_type": "markdown",
   "metadata": {},
   "source": [
    "### Ví dụ áp dụng"
   ]
  },
  {
   "cell_type": "code",
   "execution_count": 37,
   "metadata": {},
   "outputs": [],
   "source": [
    "# Ma trận chuyển P\n",
    "P=[[0.5,0.2,0.3],[0.4,0.2,0.4],[0.6,0.3,0.1]]"
   ]
  },
  {
   "cell_type": "code",
   "execution_count": 38,
   "metadata": {},
   "outputs": [
    {
     "data": {
      "text/plain": [
       "[[0.5, 0.2, 0.3], [0.4, 0.2, 0.4], [0.6, 0.3, 0.1]]"
      ]
     },
     "execution_count": 38,
     "metadata": {},
     "output_type": "execute_result"
    }
   ],
   "source": [
    "# P^1\n",
    "Luythuamatran(P,1)"
   ]
  },
  {
   "cell_type": "code",
   "execution_count": 40,
   "metadata": {},
   "outputs": [
    {
     "data": {
      "text/plain": [
       "[[0.5045000000000001, 0.22710000000000002, 0.26839999999999997],\n",
       " [0.5052, 0.22760000000000002, 0.26720000000000005],\n",
       " [0.5027999999999999, 0.2259, 0.2713]]"
      ]
     },
     "execution_count": 40,
     "metadata": {},
     "output_type": "execute_result"
    }
   ],
   "source": [
    "# P^4\n",
    "Luythuamatran(P,4)"
   ]
  },
  {
   "cell_type": "code",
   "execution_count": 41,
   "metadata": {},
   "outputs": [
    {
     "data": {
      "text/plain": [
       "[[0.5042014370000001, 0.226890584, 0.2689079790000001],\n",
       " [0.50420086, 0.226890176, 0.268908964],\n",
       " [0.50420283, 0.22689156900000002, 0.26890560099999994]]"
      ]
     },
     "execution_count": 41,
     "metadata": {},
     "output_type": "execute_result"
    }
   ],
   "source": [
    "# P^9\n",
    "Luythuamatran(P,9)"
   ]
  },
  {
   "cell_type": "code",
   "execution_count": 42,
   "metadata": {},
   "outputs": [
    {
     "data": {
      "text/plain": [
       "[[0.5042014370000001, 0.226890584, 0.2689079790000001],\n",
       " [0.50420086, 0.226890176, 0.268908964],\n",
       " [0.50420283, 0.22689156900000002, 0.26890560099999994]]"
      ]
     },
     "execution_count": 42,
     "metadata": {},
     "output_type": "execute_result"
    }
   ],
   "source": [
    "# P^10\n",
    "Luythuamatran(P,10)"
   ]
  },
  {
   "cell_type": "markdown",
   "metadata": {},
   "source": [
    "# Câu 3"
   ]
  },
  {
   "cell_type": "code",
   "execution_count": 70,
   "metadata": {},
   "outputs": [
    {
     "name": "stdout",
     "output_type": "stream",
     "text": [
      "[0.02884495913543251, 0.022265651699492846, 0.027088590819611267, 0.025485850620712732, 0.017718739346904006, 0.13618311313834136, 0.13442840643139728, 0.023655846198355247, 0.0801398687289254, 0.12562171731102267, 0.023491506374105322, 0.09975424246829862, 0.1261150888736665, 0.0930284078914511, 0.03617801096228317]\n",
      "1.0\n"
     ]
    }
   ],
   "source": [
    "import random\n",
    "# Tạo ngẫu nhiên vector phân phối xác suất đầu pi0 có kích thước n\n",
    "def randomPi0(n):\n",
    "    DEFSUM=1\n",
    "    res=[]\n",
    "    sum=0\n",
    "    for i in range(n):\n",
    "        res.append(random.uniform(0,100))\n",
    "        sum+=res[i]\n",
    "    sum2=0\n",
    "    for i in range(n):\n",
    "        res[i]=(res[i]*DEFSUM/sum)\n",
    "        sum2+=res[i]\n",
    "    sodu=sum2-DEFSUM\n",
    "#     Giảm thiểu sai số\n",
    "    if sodu<0:\n",
    "        res[0]+=-sodu   \n",
    "    elif sodu>0:\n",
    "        for i in range(n):\n",
    "            if (res[i]>=sodu):\n",
    "                res[i]-=sodu\n",
    "                break\n",
    "    return res\n",
    "v=randomPi0(15)\n",
    "print(v)\n",
    "sum=0\n",
    "for vi in v:\n",
    "    sum+=vi\n",
    "print(sum)"
   ]
  },
  {
   "cell_type": "markdown",
   "metadata": {},
   "source": [
    "### Ví dụ áp dụng"
   ]
  },
  {
   "cell_type": "code",
   "execution_count": 71,
   "metadata": {},
   "outputs": [
    {
     "data": {
      "text/plain": [
       "[0.5493597689633549, 0.3247026616144574, 0.12593756942218776]"
      ]
     },
     "execution_count": 71,
     "metadata": {},
     "output_type": "execute_result"
    }
   ],
   "source": [
    "# tạo pi0 cho ma trận chuyển P\n",
    "randomPi0(3)"
   ]
  },
  {
   "cell_type": "markdown",
   "metadata": {},
   "source": [
    "# Câu 4"
   ]
  },
  {
   "cell_type": "code",
   "execution_count": 73,
   "metadata": {},
   "outputs": [],
   "source": [
    "# Tính Pi mũ n từ ma trận P và pi0\n",
    "def calcPiN(P,pi0,n):\n",
    "    PmuN=Luythuamatran(P,n)\n",
    "    piN=vectordong_x_Matrix(pi0,PmuN)\n",
    "    return piN"
   ]
  },
  {
   "cell_type": "code",
   "execution_count": 77,
   "metadata": {},
   "outputs": [],
   "source": [
    "# Chương trình tính xác suất P(Xn=i,Xm=j) từ vector pi0 và ma trận chuyển P\n",
    "def tinhxacsuat(P,pi0,n,m,i,j):\n",
    "    calcP=Luythuamatran(P,n-m)[j][i]\n",
    "    piN=calcPiN(P,pi0,m)[j]\n",
    "    result=calcP*piN\n",
    "    return result"
   ]
  },
  {
   "cell_type": "markdown",
   "metadata": {},
   "source": [
    "### Ví dụ áp dụng"
   ]
  },
  {
   "cell_type": "code",
   "execution_count": 125,
   "metadata": {},
   "outputs": [
    {
     "data": {
      "text/plain": [
       "[0.331680446003877, 0.29409069380486375, 0.37422886019125917]"
      ]
     },
     "execution_count": 125,
     "metadata": {},
     "output_type": "execute_result"
    }
   ],
   "source": [
    "# Tạo lại một vector pi0 mới\n",
    "pi0=randomPi0(3)\n",
    "pi0"
   ]
  },
  {
   "cell_type": "code",
   "execution_count": 126,
   "metadata": {},
   "outputs": [
    {
     "data": {
      "text/plain": [
       "0.06273009776408367"
      ]
     },
     "execution_count": 126,
     "metadata": {},
     "output_type": "execute_result"
    }
   ],
   "source": [
    "# P(X6=2,X3=1)\n",
    "tinhxacsuat(P,pi0,6,3,2,1)"
   ]
  },
  {
   "cell_type": "code",
   "execution_count": 127,
   "metadata": {},
   "outputs": [
    {
     "data": {
      "text/plain": [
       "0.12904959652755338"
      ]
     },
     "execution_count": 127,
     "metadata": {},
     "output_type": "execute_result"
    }
   ],
   "source": [
    "# P(X7=0,X5=2)\n",
    "tinhxacsuat(P,pi0,7,5,0,2)"
   ]
  },
  {
   "cell_type": "code",
   "execution_count": null,
   "metadata": {},
   "outputs": [],
   "source": []
  },
  {
   "cell_type": "code",
   "execution_count": null,
   "metadata": {},
   "outputs": [],
   "source": []
  }
 ],
 "metadata": {
  "kernelspec": {
   "display_name": "Python 3",
   "language": "python",
   "name": "python3"
  },
  "language_info": {
   "codemirror_mode": {
    "name": "ipython",
    "version": 3
   },
   "file_extension": ".py",
   "mimetype": "text/x-python",
   "name": "python",
   "nbconvert_exporter": "python",
   "pygments_lexer": "ipython3",
   "version": "3.8.5"
  }
 },
 "nbformat": 4,
 "nbformat_minor": 4
}
