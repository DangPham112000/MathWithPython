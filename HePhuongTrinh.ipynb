{
 "cells": [
  {
   "cell_type": "markdown",
   "metadata": {},
   "source": [
    "# Các phép biến đổi sơ câp trên dòng"
   ]
  },
  {
   "cell_type": "code",
   "execution_count": 2,
   "metadata": {},
   "outputs": [
    {
     "data": {
      "text/plain": [
       "[[-7, -8, -9], [4, 5, 6], [7, 8, 9]]"
      ]
     },
     "execution_count": 2,
     "metadata": {},
     "output_type": "execute_result"
    }
   ],
   "source": [
    "# Hoán vị dòng i với dòng j trong mtr A\n",
    "def swapRow(A,i,j):\n",
    "    B=A[i]\n",
    "    A[i]=A[j]\n",
    "    A[j]=B\n",
    "    return A\n",
    "A = [[1,2,3],[4,5,6],[7,8,9]]\n",
    "swapRow(A,1,2)\n",
    "# Lấy 1 dòng mtr A nhân với 1 hệ số k\n",
    "def rowMultK(A,i,k):\n",
    "    for j in range(len(A[i])):\n",
    "        A[i][j]=A[i][j]*k\n",
    "    return A\n",
    "A = [[1,2,3],[4,5,6],[7,8,9]]\n",
    "rowMultK(A,0,2)\n",
    "# trừ 1 dòng với k lần dòng khác trong mtr A\n",
    "def rowMinusKRow(A,i1,i2,k):\n",
    "    for j in range(len(A[i1])):\n",
    "        A[i1][j]=A[i1][j]-k*A[i2][j]\n",
    "    return A\n",
    "A = [[1,2,3],[4,5,6],[7,8,9]]\n",
    "rowMinusKRow(A,0,1,2)"
   ]
  },
  {
   "cell_type": "markdown",
   "metadata": {},
   "source": [
    "# Gauss"
   ]
  },
  {
   "cell_type": "code",
   "execution_count": 91,
   "metadata": {},
   "outputs": [
    {
     "data": {
      "text/plain": [
       "[[1.0, -2.0, -1.0, 1.0],\n",
       " [0.0, 1.0, 3.0, 4.0],\n",
       " [0.0, 0.0, 0.0, 0.0],\n",
       " [0.0, 0.0, 0.0, 0.0]]"
      ]
     },
     "execution_count": 91,
     "metadata": {},
     "output_type": "execute_result"
    }
   ],
   "source": [
    "# Kiểm tra cột j có toàn là 0 hay không\n",
    "def checkColumnFull0(A,j):\n",
    "    for i in range(len(A)):\n",
    "        if (A[i][j]!=0):\n",
    "            return False\n",
    "    return True\n",
    "A = [[0,2,3],[0,5,6],[0,8,9]]\n",
    "checkColumnFull0(A,1)\n",
    "\n",
    "def Gauss(A):\n",
    "    resultA=[]\n",
    "    while len(A)!=0:\n",
    "    #     B1\n",
    "        defC=0\n",
    "        for j in range(len(A[0])):\n",
    "            if (not checkColumnFull0(A,j)):\n",
    "                defC=j\n",
    "                break\n",
    "    #     B2\n",
    "        if (A[0][defC]!=0):\n",
    "            for i in range(len(A)):\n",
    "                if A[i][defC]!=0:\n",
    "                    A=swapRow(A,i,0)\n",
    "                    break\n",
    "    #     B3\n",
    "        if (A[0][defC]!=0):\n",
    "            k=1/A[0][defC]\n",
    "            A=rowMultK(A,0,k)\n",
    "        resultA.append(A[0])\n",
    "    #     B4\n",
    "        for i in range(len(A)):\n",
    "            if (i==0):\n",
    "                continue\n",
    "            A=rowMinusKRow(A,i,0,A[i][defC])\n",
    "    #     B5\n",
    "        A.pop(0)\n",
    "    return resultA\n",
    "A=[[1,2,-1,-1],[2,2,1,1],[3,5,-2,-1]]\n",
    "Gauss(A)\n",
    "B=[[1,-2,-1,1],[2,-3,1,6],[3,-5,0,7],[1,0,5,9]]\n",
    "Gauss(B)"
   ]
  },
  {
   "cell_type": "markdown",
   "metadata": {},
   "source": [
    "# Tìm nghiệm của hệ phương trình tuyến tính"
   ]
  },
  {
   "cell_type": "code",
   "execution_count": 92,
   "metadata": {},
   "outputs": [
    {
     "name": "stdout",
     "output_type": "stream",
     "text": [
      "[[1, 2, -1, -1], [2, 2, 1, 1], [3, 5, -2, -1]]\n",
      "[[1.0, 2.0, -1.0, -1.0], [-0.0, 1.0, -1.5, -1.5], [-0.0, -0.0, 1.0, -1.0]]\n",
      "[[1.0, 2.0, -1.0, -1.0], [-0.0, 1.0, -1.5, -1.5], [-0.0, -0.0, 1.0, -1.0]]\n",
      "[[0.6666666666666667, -0.75, 0], [-0.6666666666666666, 0.75, 0]]\n",
      "[[1.0, -1.1249999999999998, 0.0], [0.0, 1.0, 0.0]]\n",
      "[[1.0, -1.1249999999999998, 0.0], [0.0, 1.0, 0.0]]\n"
     ]
    },
    {
     "data": {
      "text/plain": [
       "[0.0, 0.0]"
      ]
     },
     "execution_count": 92,
     "metadata": {},
     "output_type": "execute_result"
    }
   ],
   "source": [
    "def taoMtrBS(A,b):\n",
    "    for i in range(len(A)):\n",
    "        A[i].append(b[i])\n",
    "    return A\n",
    "\n",
    "def delRow0(A1):\n",
    "    stack=[]\n",
    "    A=A1.copy()\n",
    "    for i in range(len(A)):\n",
    "        isFull0=True\n",
    "        for j in range(len(A[i])):\n",
    "            if (A[i][j]!=0):\n",
    "                isFull0=False\n",
    "                break\n",
    "        if (isFull0):\n",
    "            stack.append(i)\n",
    "#     print(stack)\n",
    "#     Vòng for ngược từ cuối về 0\n",
    "    for i in range(len(stack)-1,-1,-1):\n",
    "        A.pop(stack[i])\n",
    "    return A\n",
    "            \n",
    "def solveMatrix(A,b):\n",
    "    if (len(A)!=len(b)):\n",
    "        print('Error input')\n",
    "        return None\n",
    "    Abs=taoMtrBS(A,b)\n",
    "    print(Abs)\n",
    "    Abs=Gauss(Abs)\n",
    "    print(Abs)\n",
    "    Aclear=delRow0(Abs)\n",
    "    if (len(Aclear)==len(Aclear[0])-1):\n",
    "        Abs=Aclear\n",
    "    print(Abs)\n",
    "    if (Abs[len(Abs)-1][len(Abs[0])-2]==0):\n",
    "        if (Abs[len(Abs)-1][len(Abs[0])-1]==0):\n",
    "            print('Hệ phương trình vô số nghiệm')\n",
    "            return None\n",
    "        else:\n",
    "            print('Hệ phương trình vô nghiệm')\n",
    "            return None\n",
    "    if (len(Abs[0])-1>len(Abs)):\n",
    "            print('Hệ phương trình vô số nghiệm')\n",
    "            return None\n",
    "#     Phương pháp thế ngược\n",
    "#     Khởi tạo giá trị tạm thời cho vector nghiệm X\n",
    "    X=[]\n",
    "    for i in range(len(Abs[0])-1):\n",
    "        X.append(0)\n",
    "    n=len(Abs)\n",
    "    for i in range(1,n+1):\n",
    "        sum=0\n",
    "        for j in range (1,i):\n",
    "            sum+=X[n-j]*Abs[n-i][n-j]\n",
    "        X[n-i]=(Abs[n-i][n]-sum)/Abs[n-i][n-i]\n",
    "    return X\n",
    "\n",
    "# A=[[1,-2,-1],[2,-3,1],[3,-5,0],[1,0,5]]\n",
    "# b=[1,6,7,9]\n",
    "# solveMatrix(A,b)\n",
    "\n",
    "\n",
    "A=[[1,2,-1],[2,2,1],[3,5,-2]]\n",
    "b=[-1,1,-1]\n",
    "solveMatrix(A,b)\n",
    "a= [[0.6666666666666667, -0.75], [-0.6666666666666666, 0.75]]\n",
    "b=[0,0]\n",
    "solveMatrix(a,b)"
   ]
  },
  {
   "cell_type": "markdown",
   "metadata": {},
   "source": [
    "# Bài 1"
   ]
  },
  {
   "cell_type": "code",
   "execution_count": 93,
   "metadata": {},
   "outputs": [
    {
     "name": "stdout",
     "output_type": "stream",
     "text": [
      "[[1, 2, -1, -1], [2, 2, 1, 1], [3, 5, -2, -1]]\n",
      "[[1.0, 2.0, -1.0, -1.0], [-0.0, 1.0, -1.5, -1.5], [-0.0, -0.0, 1.0, -1.0]]\n",
      "[[1.0, 2.0, -1.0, -1.0], [-0.0, 1.0, -1.5, -1.5], [-0.0, -0.0, 1.0, -1.0]]\n"
     ]
    },
    {
     "data": {
      "text/plain": [
       "[4.0, -3.0, -1.0]"
      ]
     },
     "execution_count": 93,
     "metadata": {},
     "output_type": "execute_result"
    }
   ],
   "source": [
    "A=[[1,2,-1],[2,2,1],[3,5,-2]]\n",
    "b=[-1,1,-1]\n",
    "solveMatrix(A,b)"
   ]
  },
  {
   "cell_type": "markdown",
   "metadata": {},
   "source": [
    "# Bài 2"
   ]
  },
  {
   "cell_type": "code",
   "execution_count": 94,
   "metadata": {},
   "outputs": [
    {
     "name": "stdout",
     "output_type": "stream",
     "text": [
      "[[1, -2, -1, 1], [2, -3, 1, 6], [3, -5, 0, 7], [1, 0, 5, 9]]\n",
      "[[1.0, -2.0, -1.0, 1.0], [0.0, 1.0, 3.0, 4.0], [0.0, 0.0, 0.0, 0.0], [0.0, 0.0, 0.0, 0.0]]\n",
      "[[1.0, -2.0, -1.0, 1.0], [0.0, 1.0, 3.0, 4.0], [0.0, 0.0, 0.0, 0.0], [0.0, 0.0, 0.0, 0.0]]\n",
      "Hệ phương trình vô số nghiệm\n"
     ]
    }
   ],
   "source": [
    "A=[[1,-2,-1],[2,-3,1],[3,-5,0],[1,0,5]]\n",
    "b=[1,6,7,9]\n",
    "solveMatrix(A,b)"
   ]
  },
  {
   "cell_type": "markdown",
   "metadata": {},
   "source": [
    "# Bài 3"
   ]
  },
  {
   "cell_type": "code",
   "execution_count": 95,
   "metadata": {},
   "outputs": [
    {
     "name": "stdout",
     "output_type": "stream",
     "text": [
      "[[1, 2, 0, 2, 6], [3, 5, -1, 6, 17], [2, 4, 1, 2, 12], [2, 0, -7, 11, 7]]\n",
      "[[1.0, 2.0, 0.0, 2.0, 6.0], [-0.0, 1.0, 1.0, -0.0, 1.0], [0.0, 0.0, 1.0, -2.0, 0.0], [0.0, 0.0, 0.0, 1.0, -1.0]]\n",
      "[[1.0, 2.0, 0.0, 2.0, 6.0], [-0.0, 1.0, 1.0, -0.0, 1.0], [0.0, 0.0, 1.0, -2.0, 0.0], [0.0, 0.0, 0.0, 1.0, -1.0]]\n"
     ]
    },
    {
     "data": {
      "text/plain": [
       "[2.0, 3.0, -2.0, -1.0]"
      ]
     },
     "execution_count": 95,
     "metadata": {},
     "output_type": "execute_result"
    }
   ],
   "source": [
    "A=[[1,2,0,2],[3,5,-1,6],[2,4,1,2],[2,0,-7,11]]\n",
    "b=[6,17,12,7]\n",
    "solveMatrix(A,b)"
   ]
  },
  {
   "cell_type": "markdown",
   "metadata": {},
   "source": [
    "# Bài 4"
   ]
  },
  {
   "cell_type": "code",
   "execution_count": 96,
   "metadata": {},
   "outputs": [
    {
     "name": "stdout",
     "output_type": "stream",
     "text": [
      "[[2, -4, -1, 1], [1, -3, 1, 1], [3, -5, -3, 2]]\n",
      "[[1.0, -2.0, -0.5, 0.5], [-0.0, 1.0, -1.5, -0.5], [0.0, 0.0, 0.0, 1.0]]\n",
      "[[1.0, -2.0, -0.5, 0.5], [-0.0, 1.0, -1.5, -0.5], [0.0, 0.0, 0.0, 1.0]]\n",
      "Hệ phương trình vô nghiệm\n"
     ]
    }
   ],
   "source": [
    "A=[[2,-4,-1],[1,-3,1],[3,-5,-3]]\n",
    "b=[1,1,2]\n",
    "solveMatrix(A,b)"
   ]
  },
  {
   "cell_type": "markdown",
   "metadata": {},
   "source": [
    "# Bài 5"
   ]
  },
  {
   "cell_type": "code",
   "execution_count": 97,
   "metadata": {},
   "outputs": [
    {
     "name": "stdout",
     "output_type": "stream",
     "text": [
      "[[1, 2, -2, 3], [3, -1, 1, 1], [-1, 5, -5, 5]]\n",
      "[[1.0, 2.0, -2.0, 3.0], [-0.0, 1.0, -1.0, 1.1428571428571428], [0.0, 0.0, 0.0, 0.0]]\n",
      "[[1.0, 2.0, -2.0, 3.0], [-0.0, 1.0, -1.0, 1.1428571428571428], [0.0, 0.0, 0.0, 0.0]]\n",
      "Hệ phương trình vô số nghiệm\n"
     ]
    }
   ],
   "source": [
    "A=[[1,2,-2],[3,-1,1],[-1,5,-5]]\n",
    "b=[3,1,5]\n",
    "solveMatrix(A,b)"
   ]
  },
  {
   "cell_type": "markdown",
   "metadata": {},
   "source": [
    "# Bài 6"
   ]
  },
  {
   "cell_type": "code",
   "execution_count": 98,
   "metadata": {},
   "outputs": [
    {
     "name": "stdout",
     "output_type": "stream",
     "text": [
      "[[2, -4, 6, 8], [1, -1, 1, -1], [1, -3, 4, 0]]\n",
      "[[1.0, -2.0, 3.0, 4.0], [0.0, 1.0, -2.0, -5.0], [-0.0, -0.0, 1.0, 9.0]]\n",
      "[[1.0, -2.0, 3.0, 4.0], [0.0, 1.0, -2.0, -5.0], [-0.0, -0.0, 1.0, 9.0]]\n"
     ]
    },
    {
     "data": {
      "text/plain": [
       "[3.0, 13.0, 9.0]"
      ]
     },
     "execution_count": 98,
     "metadata": {},
     "output_type": "execute_result"
    }
   ],
   "source": [
    "A=[[2,-4,6],[1,-1,1],[1,-3,4]]\n",
    "b=[8,-1,0]\n",
    "solveMatrix(A,b)"
   ]
  },
  {
   "cell_type": "markdown",
   "metadata": {},
   "source": [
    "# Bài 7"
   ]
  },
  {
   "cell_type": "code",
   "execution_count": 99,
   "metadata": {},
   "outputs": [
    {
     "name": "stdout",
     "output_type": "stream",
     "text": [
      "[[4, -2, -4, 2, 1], [6, -3, 0, -5, 3], [8, -4, 28, -44, 11], [-8, 4, -4, 12, -5]]\n",
      "[[1.0, -0.5, -1.0, 0.5, 0.25], [0.0, 0.0, 1.0, -1.3333333333333333, 0.25], [0.0, 0.0, 0.0, 0.0, 0.0], [0.0, 0.0, 0.0, 0.0, 0.0]]\n",
      "[[1.0, -0.5, -1.0, 0.5, 0.25], [0.0, 0.0, 1.0, -1.3333333333333333, 0.25], [0.0, 0.0, 0.0, 0.0, 0.0], [0.0, 0.0, 0.0, 0.0, 0.0]]\n",
      "Hệ phương trình vô số nghiệm\n"
     ]
    }
   ],
   "source": [
    "A=[[4,-2,-4,2],[6,-3,0,-5],[8,-4,28,-44],[-8,4,-4,12]]\n",
    "b=[1,3,11,-5]\n",
    "solveMatrix(A,b)"
   ]
  },
  {
   "cell_type": "markdown",
   "metadata": {},
   "source": [
    "# Bài 8"
   ]
  },
  {
   "cell_type": "code",
   "execution_count": 100,
   "metadata": {},
   "outputs": [
    {
     "name": "stdout",
     "output_type": "stream",
     "text": [
      "[[1, -2, 3, -3], [2, 2, 0, 0], [0, -3, 4, 1], [1, 0, 1, -1]]\n",
      "[[1.0, -2.0, 3.0, -3.0], [0.0, 1.0, -1.0, 1.0], [0.0, 0.0, 1.0, 4.0], [0.0, 0.0, 0.0, 0.0]]\n",
      "[[1.0, -2.0, 3.0, -3.0], [0.0, 1.0, -1.0, 1.0], [0.0, 0.0, 1.0, 4.0]]\n"
     ]
    },
    {
     "data": {
      "text/plain": [
       "[-5.0, 5.0, 4.0]"
      ]
     },
     "execution_count": 100,
     "metadata": {},
     "output_type": "execute_result"
    }
   ],
   "source": [
    "A=[[1,-2,3],[2,2,0],[0,-3,4],[1,0,1]]\n",
    "b=[-3,0,1,-1]\n",
    "solveMatrix(A,b)"
   ]
  },
  {
   "cell_type": "markdown",
   "metadata": {},
   "source": [
    "# Bài 9"
   ]
  },
  {
   "cell_type": "code",
   "execution_count": 101,
   "metadata": {},
   "outputs": [
    {
     "name": "stdout",
     "output_type": "stream",
     "text": [
      "[[3, -3, 3, -3], [-1, -5, 2, 4], [0, -4, 2, 2], [3, -1, 2, -4]]\n",
      "[[1.0, -1.0, 1.0, -1.0], [-0.0, 1.0, -0.5, -0.5], [0.0, 0.0, 0.0, 0.0], [0.0, 0.0, 0.0, 0.0]]\n",
      "[[1.0, -1.0, 1.0, -1.0], [-0.0, 1.0, -0.5, -0.5], [0.0, 0.0, 0.0, 0.0], [0.0, 0.0, 0.0, 0.0]]\n",
      "Hệ phương trình vô số nghiệm\n"
     ]
    }
   ],
   "source": [
    "A=[[3,-3,3],[-1,-5,2],[0,-4,2],[3,-1,2]]\n",
    "b=[-3,4,2,-4]\n",
    "solveMatrix(A,b)"
   ]
  },
  {
   "cell_type": "markdown",
   "metadata": {},
   "source": [
    "# Bài 10"
   ]
  },
  {
   "cell_type": "code",
   "execution_count": 102,
   "metadata": {},
   "outputs": [
    {
     "name": "stdout",
     "output_type": "stream",
     "text": [
      "[[1, -1, 1, -3, 0], [2, -1, 4, -2, 0]]\n",
      "[[1.0, -1.0, 1.0, -3.0, 0.0], [0.0, 1.0, 2.0, 4.0, 0.0]]\n",
      "[[1.0, -1.0, 1.0, -3.0, 0.0], [0.0, 1.0, 2.0, 4.0, 0.0]]\n",
      "Hệ phương trình vô số nghiệm\n"
     ]
    }
   ],
   "source": [
    "A=[[1,-1,1,-3],[2,-1,4,-2]]\n",
    "b=[0,0]\n",
    "solveMatrix(A,b)"
   ]
  },
  {
   "cell_type": "markdown",
   "metadata": {},
   "source": [
    "# Bài 11"
   ]
  },
  {
   "cell_type": "code",
   "execution_count": 106,
   "metadata": {},
   "outputs": [
    {
     "name": "stdout",
     "output_type": "stream",
     "text": [
      "[[2, -3, 4, -1, 0], [6, 1, -8, 9, 0], [2, 6, 1, -1, 0]]\n",
      "[[1.0, -1.5, 2.0, -0.5, 0.0], [0.0, 1.0, -2.0, 1.2000000000000002, 0.0], [0.0, 0.0, 1.0, -0.7200000000000001, 0.0]]\n",
      "[[1.0, -1.5, 2.0, -0.5, 0.0], [0.0, 1.0, -2.0, 1.2000000000000002, 0.0], [0.0, 0.0, 1.0, -0.7200000000000001, 0.0]]\n",
      "Hệ phương trình vô số nghiệm\n"
     ]
    }
   ],
   "source": [
    "A=[[2,-3,4,-1],[6,1,-8,9],[2,6,1,-1]]\n",
    "b=[0,0,0]\n",
    "solveMatrix(A,b)"
   ]
  },
  {
   "cell_type": "markdown",
   "metadata": {},
   "source": [
    "# Bài 12"
   ]
  },
  {
   "cell_type": "code",
   "execution_count": 105,
   "metadata": {},
   "outputs": [
    {
     "name": "stdout",
     "output_type": "stream",
     "text": [
      "[[1, 6, 4, 0], [2, 4, -1, 0], [-1, 2, 5, 0]]\n",
      "[[1.0, 6.0, 4.0, 0.0], [-0.0, 1.0, 1.125, -0.0], [0.0, 0.0, 0.0, 0.0]]\n",
      "[[1.0, 6.0, 4.0, 0.0], [-0.0, 1.0, 1.125, -0.0], [0.0, 0.0, 0.0, 0.0]]\n",
      "Hệ phương trình vô số nghiệm\n"
     ]
    }
   ],
   "source": [
    "A=[[1,6,4],[2,4,-1],[-1,2,5]]\n",
    "b=[0,0,0]\n",
    "solveMatrix(A,b)"
   ]
  },
  {
   "cell_type": "code",
   "execution_count": null,
   "metadata": {},
   "outputs": [],
   "source": []
  }
 ],
 "metadata": {
  "kernelspec": {
   "display_name": "Python 3",
   "language": "python",
   "name": "python3"
  },
  "language_info": {
   "codemirror_mode": {
    "name": "ipython",
    "version": 3
   },
   "file_extension": ".py",
   "mimetype": "text/x-python",
   "name": "python",
   "nbconvert_exporter": "python",
   "pygments_lexer": "ipython3",
   "version": "3.8.5"
  }
 },
 "nbformat": 4,
 "nbformat_minor": 4
}
