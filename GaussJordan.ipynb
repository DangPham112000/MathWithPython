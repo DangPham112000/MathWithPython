{
 "cells": [
  {
   "cell_type": "code",
   "execution_count": 1,
   "metadata": {},
   "outputs": [
    {
     "data": {
      "text/plain": [
       "[[-7, -8, -9], [4, 5, 6], [7, 8, 9]]"
      ]
     },
     "execution_count": 1,
     "metadata": {},
     "output_type": "execute_result"
    }
   ],
   "source": [
    "# Hoán vị dòng i với dòng j trong mtr A\n",
    "def swapRow(A,i,j):\n",
    "    B=A[i]\n",
    "    A[i]=A[j]\n",
    "    A[j]=B\n",
    "    return A\n",
    "A = [[1,2,3],[4,5,6],[7,8,9]]\n",
    "swapRow(A,1,2)\n",
    "# Lấy 1 dòng mtr A nhân với 1 hệ số k\n",
    "def rowMultK(A,i,k):\n",
    "    for j in range(len(A[i])):\n",
    "        A[i][j]=A[i][j]*k\n",
    "    return A\n",
    "A = [[1,2,3],[4,5,6],[7,8,9]]\n",
    "rowMultK(A,0,2)\n",
    "# trừ 1 dòng với k lần dòng khác trong mtr A\n",
    "def rowMinusKRow(A,i1,i2,k):\n",
    "    for j in range(len(A[i1])):\n",
    "        A[i1][j]=A[i1][j]-k*A[i2][j]\n",
    "    return A\n",
    "A = [[1,2,3],[4,5,6],[7,8,9]]\n",
    "rowMinusKRow(A,0,1,2)"
   ]
  },
  {
   "cell_type": "code",
   "execution_count": 2,
   "metadata": {},
   "outputs": [
    {
     "data": {
      "text/plain": [
       "[[1.0, -2.0, -1.0, 1.0],\n",
       " [0.0, 1.0, 3.0, 4.0],\n",
       " [0.0, 0.0, 0.0, 0.0],\n",
       " [0.0, 0.0, 0.0, 0.0]]"
      ]
     },
     "execution_count": 2,
     "metadata": {},
     "output_type": "execute_result"
    }
   ],
   "source": [
    "# Kiểm tra cột j có toàn là 0 hay không\n",
    "def checkColumnFull0(A,j):\n",
    "    for i in range(len(A)):\n",
    "        if (A[i][j]!=0):\n",
    "            return False\n",
    "    return True\n",
    "A = [[0,2,3],[0,5,6],[0,8,9]]\n",
    "checkColumnFull0(A,1)\n",
    "\n",
    "def Gauss(A):\n",
    "    resultA=[]\n",
    "    while len(A)!=0:\n",
    "    #     B1\n",
    "        defC=0\n",
    "        for j in range(len(A[0])):\n",
    "            if (not checkColumnFull0(A,j)):\n",
    "                defC=j\n",
    "                break\n",
    "    #     B2\n",
    "        if (A[0][defC]!=0):\n",
    "            for i in range(len(A)):\n",
    "                if A[i][defC]!=0:\n",
    "                    A=swapRow(A,i,0)\n",
    "                    break\n",
    "    #     B3\n",
    "        if (A[0][defC]!=0):\n",
    "            k=1/A[0][defC]\n",
    "            A=rowMultK(A,0,k)\n",
    "        resultA.append(A[0])\n",
    "    #     B4\n",
    "        for i in range(len(A)):\n",
    "            if (i==0):\n",
    "                continue\n",
    "            A=rowMinusKRow(A,i,0,A[i][defC])\n",
    "        A.pop(0)\n",
    "    return resultA\n",
    "A=[[1,2,-1,-1],[2,2,1,1],[3,5,-2,-1]]\n",
    "Gauss(A)\n",
    "B=[[1,-2,-1,1],[2,-3,1,6],[3,-5,0,7],[1,0,5,9]]\n",
    "Gauss(B)"
   ]
  },
  {
   "cell_type": "code",
   "execution_count": 3,
   "metadata": {},
   "outputs": [
    {
     "data": {
      "text/plain": [
       "[[1, 0, 0, 0, 0, 0, 0],\n",
       " [0, 1, 0, 0, 0, 0, 0],\n",
       " [0, 0, 1, 0, 0, 0, 0],\n",
       " [0, 0, 0, 1, 0, 0, 0],\n",
       " [0, 0, 0, 0, 1, 0, 0],\n",
       " [0, 0, 0, 0, 0, 1, 0],\n",
       " [0, 0, 0, 0, 0, 0, 1]]"
      ]
     },
     "execution_count": 3,
     "metadata": {},
     "output_type": "execute_result"
    }
   ],
   "source": [
    "def matranI(n):\n",
    "    return [[1 if i==j else 0 for j in range(n)] for i in range(n)];\n",
    "matranI(7)"
   ]
  },
  {
   "cell_type": "code",
   "execution_count": 17,
   "metadata": {},
   "outputs": [
    {
     "name": "stdout",
     "output_type": "stream",
     "text": [
      "[[1.0, -2.0, 3.0, 1.0, 0.0, 0.0], [0.0, 1.0, 1.0, 0.0, 0.5, 0.0], [0.0, 0.0, 1.0, 0.2, 0.3333333333333333, 0.06666666666666667]]\n"
     ]
    }
   ],
   "source": [
    "# Hàm nối 2 ma trận lại với nhau theo dòng\n",
    "def noi2matran(A,B):\n",
    "    if (len(A)!=len(B)):\n",
    "        print('Lỗi. 2 ma trận khác số dòng')\n",
    "        return None\n",
    "    for i in range(len(A)):\n",
    "        for j in range(len(B[0])):\n",
    "            A[i].append(B[i][j])\n",
    "    return A\n",
    "I=matranI(3)\n",
    "A=[[1,-2,3],[0,2,2],[-3,-4,-4]]\n",
    "A=noi2matran(A,I)\n",
    "A=Gauss(A)\n",
    "print(A)"
   ]
  },
  {
   "cell_type": "code",
   "execution_count": 28,
   "metadata": {},
   "outputs": [
    {
     "name": "stdout",
     "output_type": "stream",
     "text": [
      "[[1.0, -2.0, 3.0, 1.0, 0.0, 0.0], [0.0, 1.0, 1.0, 0.0, 0.5, 0.0], [0.0, 0.0, 1.0, 0.2, 0.3333333333333333, 0.06666666666666667]]\n",
      "[[1.0, 0.0, 0.0, -1.1102230246251565e-16, -0.6666666666666666, -0.33333333333333337], [0.0, 1.0, 0.0, -0.2, 0.16666666666666669, -0.06666666666666667], [0.0, 0.0, 1.0, 0.2, 0.3333333333333333, 0.06666666666666667]]\n"
     ]
    }
   ],
   "source": [
    "def Jordan(A):\n",
    "    nOrigin=len(A)\n",
    "    resultA=[]\n",
    "    while len(A)!=0:\n",
    "        n=len(A)\n",
    "        \n",
    "        defC=n-1\n",
    "        for j in range(nOrigin-1,-1,-1):\n",
    "            if (not checkColumnFull0(A,j)):\n",
    "                defC=j\n",
    "                break\n",
    "                \n",
    "        resultA.append(A[n-1])\n",
    "        \n",
    "        for i in range(n-1,-1,-1):\n",
    "            if (i==n-1):\n",
    "                continue\n",
    "            A=rowMinusKRow(A,i,n-1,A[i][defC])\n",
    "            \n",
    "        A.pop(n-1)\n",
    "    tempA=[]\n",
    "    for i in range(len(resultA)-1,-1,-1):\n",
    "        tempA.append(resultA[i])\n",
    "    return tempA\n",
    "I=matranI(3)\n",
    "A=[[1,-2,3],[0,2,2],[-3,-4,-4]]\n",
    "A=noi2matran(A,I)\n",
    "A=Gauss(A)\n",
    "print(A)\n",
    "A=Jordan(A)\n",
    "print(A)"
   ]
  },
  {
   "cell_type": "code",
   "execution_count": null,
   "metadata": {},
   "outputs": [],
   "source": []
  }
 ],
 "metadata": {
  "kernelspec": {
   "display_name": "Python 3",
   "language": "python",
   "name": "python3"
  },
  "language_info": {
   "codemirror_mode": {
    "name": "ipython",
    "version": 3
   },
   "file_extension": ".py",
   "mimetype": "text/x-python",
   "name": "python",
   "nbconvert_exporter": "python",
   "pygments_lexer": "ipython3",
   "version": "3.8.5"
  }
 },
 "nbformat": 4,
 "nbformat_minor": 4
}
