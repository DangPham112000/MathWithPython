{
 "cells": [
  {
   "cell_type": "markdown",
   "metadata": {},
   "source": [
    "Họ tên: Phạm Hải Đăng\n",
    "\n",
    "MSSV: 18120302\n",
    "\n",
    "Lớp: CQ2018/21"
   ]
  },
  {
   "cell_type": "markdown",
   "metadata": {},
   "source": [
    "# 1) Tính tổng 2 vector"
   ]
  },
  {
   "cell_type": "code",
   "execution_count": 10,
   "metadata": {},
   "outputs": [
    {
     "data": {
      "text/plain": [
       "[4, 6, 8]"
      ]
     },
     "execution_count": 10,
     "metadata": {},
     "output_type": "execute_result"
    }
   ],
   "source": [
    "def add_vector(v,w):\n",
    "    return [vi+wi for (vi,wi) in zip (v,w)]\n",
    "u1=[1,2,3]\n",
    "u2=[3,4,5]\n",
    "add_vector(u1,u2)"
   ]
  },
  {
   "cell_type": "markdown",
   "metadata": {},
   "source": [
    "# 2) Tính tích vô hướng của 2 vector"
   ]
  },
  {
   "cell_type": "code",
   "execution_count": 82,
   "metadata": {},
   "outputs": [
    {
     "data": {
      "text/plain": [
       "-7"
      ]
     },
     "execution_count": 82,
     "metadata": {},
     "output_type": "execute_result"
    }
   ],
   "source": [
    "def Tichvohuong(a,b):\n",
    "    tvh = 0\n",
    "    for i in range(len(a)):\n",
    "        tvh += a[i] * b[i]\n",
    "    return tvh\n",
    "x=[-1,2,2]\n",
    "y=[1,0,-3]\n",
    "Tichvohuong(x,y)"
   ]
  },
  {
   "cell_type": "markdown",
   "metadata": {},
   "source": [
    "# 3) Tính tích của ma trận và vector"
   ]
  },
  {
   "cell_type": "code",
   "execution_count": 11,
   "metadata": {},
   "outputs": [
    {
     "name": "stdout",
     "output_type": "stream",
     "text": [
      "[100, 244, 388]\n",
      "[100 244 388]\n"
     ]
    }
   ],
   "source": [
    "B = [[2, 4, 6], [8, 10, 12], [14, 16, 18]]\n",
    "A = [7, 8, 9]\n",
    "\n",
    "# 2) Tinh tich vo huong cua 2 vector\n",
    "def vect_product(vect_a, vect_b):\n",
    "    if vect_a is None or vect_b is None:\n",
    "        return None\n",
    "    if len(vect_a) != len(vect_b):\n",
    "        return None\n",
    "    s = 0\n",
    "    for i in zip(vect_a, vect_b):\n",
    "        s += i[0] * i[1]\n",
    "    return s\n",
    "\n",
    "def matrix_vect(matrix_a, vect_b):\n",
    "    result = []\n",
    "    for col in range(len(matrix_a)):\n",
    "        result.append(vect_product(matrix_a[col], vect_b))\n",
    "    return result\n",
    "\n",
    "print(matrix_vect(B, A))\n",
    "\n",
    "# Test\n",
    "import numpy as np\n",
    "print(np.matmul(B,A))"
   ]
  },
  {
   "cell_type": "code",
   "execution_count": 12,
   "metadata": {},
   "outputs": [
    {
     "name": "stdout",
     "output_type": "stream",
     "text": [
      "[100, 244, 388]\n"
     ]
    }
   ],
   "source": [
    "def Matrix_x_vector(A,v):\n",
    "    # Số cột của A: len(A[0]) - số phần tử của A[0] | không phải len(A) - số dòng của A\n",
    "    if len(A[0])!=len(v):\n",
    "        print(\"Số cột mtr không bằng kích thước của vector, vui lòng nhập lại\")\n",
    "        return None\n",
    "    result=[]\n",
    "    for i in range(len(A)):\n",
    "        result.append(Tichvohuong(A[i],v))\n",
    "    return result\n",
    "A = [[2, 4, 6], [8, 10, 12], [14, 16, 18]]\n",
    "B = [7, 8, 9]\n",
    "print(Matrix_x_vector(A,B))"
   ]
  },
  {
   "cell_type": "markdown",
   "metadata": {},
   "source": [
    "# 4) Tính tổng của 2 ma trận"
   ]
  },
  {
   "cell_type": "code",
   "execution_count": 118,
   "metadata": {},
   "outputs": [
    {
     "name": "stdout",
     "output_type": "stream",
     "text": [
      "[[2, 3, 4], [3, 4, 5], [5, 6, 7]]\n"
     ]
    }
   ],
   "source": [
    "def tinhtong2matran(A, B):\n",
    "    if len(A[0])!=len(B[0]) or len(A)!=len(B):\n",
    "        print(\"2 ma trận có số chiều không bằng nhau\")\n",
    "        return None\n",
    "    result=[]\n",
    "    return [[A[i][j]+B[i][j] for j in range(len(A[0]))] for i in range(len(A))];\n",
    "A = [[1,2,3],[1,2,3],[2,3,4]]\n",
    "B = [[1,1,1],[2,2,2],[3,3,3]]\n",
    "print(tinhtong2matran(A, B))"
   ]
  },
  {
   "cell_type": "markdown",
   "metadata": {},
   "source": [
    "# 5) Tính tích của 2 ma trận"
   ]
  },
  {
   "cell_type": "code",
   "execution_count": 91,
   "metadata": {},
   "outputs": [
    {
     "name": "stdout",
     "output_type": "stream",
     "text": [
      "[[7, 10], [15, 22]]\n"
     ]
    }
   ],
   "source": [
    "# ma trận x ma trận\n",
    "# \n",
    "def vectordong_x_Matrix(v,A):\n",
    "    w=[]\n",
    "    A=tranpose(A)\n",
    "    for i in range(len(A)):\n",
    "        w.append(Tichvohuong(v,A[i]))\n",
    "    return w\n",
    "def Nhanmatran(A,B):\n",
    "    AB=[]\n",
    "    #tự kiểm tra số cột mtrA = số dòng mtrB\n",
    "    if (len(A[0])!=len(B)):\n",
    "        print('Lỗi! Số cột mtr1 không bằng số dòng mtr2')\n",
    "        return None\n",
    "    for i in range(len(A)):\n",
    "        AB.append(vectordong_x_Matrix(A[i],B))\n",
    "    return AB\n",
    "A = [[1,2],[3,4]]\n",
    "B =  [[1,2],[3,4]]\n",
    "print(Nhanmatran(A,B))"
   ]
  },
  {
   "cell_type": "markdown",
   "metadata": {},
   "source": [
    "# 6) Tìm ma trận chuyển vị"
   ]
  },
  {
   "cell_type": "code",
   "execution_count": 117,
   "metadata": {},
   "outputs": [
    {
     "data": {
      "text/plain": [
       "[[2, 8, 14], [4, 10, 16], [6, 12, 18]]"
      ]
     },
     "execution_count": 117,
     "metadata": {},
     "output_type": "execute_result"
    }
   ],
   "source": [
    "#chuyển vị mtr\n",
    "def tranpose(A):\n",
    "    sodong=len(A)\n",
    "    socot=len(A[0])\n",
    "    return [[A[i][j] for i in range(sodong) ] for j in range(socot)]\n",
    "A = [[2, 4, 6], [8, 10, 12], [14, 16, 18]]\n",
    "A\n",
    "tranpose(A)"
   ]
  },
  {
   "cell_type": "markdown",
   "metadata": {},
   "source": [
    "# 7) Tìm A^k, với A là ma trận"
   ]
  },
  {
   "cell_type": "code",
   "execution_count": null,
   "metadata": {},
   "outputs": [],
   "source": [
    "# Tính lỹ thừa mrt thì có thể áp dụng nhân ma trận\n",
    "# Hoặc áp dụng chéo hoá để tính số mũ lớn  \n",
    "def Luythuamatran(A,k):\n",
    "    "
   ]
  },
  {
   "cell_type": "markdown",
   "metadata": {},
   "source": [
    "# 8) Tìm A^-1, với A là ma trận"
   ]
  },
  {
   "cell_type": "code",
   "execution_count": null,
   "metadata": {},
   "outputs": [],
   "source": []
  },
  {
   "cell_type": "markdown",
   "metadata": {},
   "source": [
    "# 9) Thực hiện các phép biến đổi sơ cấp trên dòng"
   ]
  },
  {
   "cell_type": "code",
   "execution_count": 131,
   "metadata": {},
   "outputs": [
    {
     "data": {
      "text/plain": [
       "[[-7, -8, -9], [4, 5, 6], [7, 8, 9]]"
      ]
     },
     "execution_count": 131,
     "metadata": {},
     "output_type": "execute_result"
    }
   ],
   "source": [
    "# Hoán vị dòng i với dòng j trong mtr A\n",
    "def swapRow(A,i,j):\n",
    "    B=A[i]\n",
    "    A[i]=A[j]\n",
    "    A[j]=B\n",
    "    return A\n",
    "A = [[1,2,3],[4,5,6],[7,8,9]]\n",
    "swapRow(A,1,2)\n",
    "# Lấy 1 dòng mtr A nhân với 1 hệ số k\n",
    "def rowMultK(A,i,k):\n",
    "    for j in range(len(A[i])):\n",
    "        A[i][j]=A[i][j]*k\n",
    "    return A\n",
    "A = [[1,2,3],[4,5,6],[7,8,9]]\n",
    "rowMultK(A,0,2)\n",
    "# trừ 1 dòng với k lần dòng khác trong mtr A\n",
    "def rowMinusKRow(A,i1,i2,k):\n",
    "    for j in range(len(A[i1])):\n",
    "        A[i1][j]=A[i1][j]-k*A[i2][j]\n",
    "    return A\n",
    "A = [[1,2,3],[4,5,6],[7,8,9]]\n",
    "rowMinusKRow(A,0,1,2)"
   ]
  },
  {
   "cell_type": "markdown",
   "metadata": {},
   "source": [
    "# 10) Tìm nghiệm của hệ phương trình tuyến tính"
   ]
  },
  {
   "cell_type": "code",
   "execution_count": 132,
   "metadata": {},
   "outputs": [
    {
     "name": "stdout",
     "output_type": "stream",
     "text": [
      "[[1, 2, -1, -1], [2, 2, 1, 1], [3, 5, -2, -1]]\n",
      "[[1.0, 2.0, -1.0, -1.0], [-0.0, 1.0, -1.5, -1.5], [-0.0, -0.0, 1.0, -1.0]]\n",
      "[[1.0, 2.0, -1.0, -1.0], [-0.0, 1.0, -1.5, -1.5], [-0.0, -0.0, 1.0, -1.0]]\n",
      "[[0.6666666666666667, -0.75, 0], [-0.6666666666666666, 0.75, 0]]\n",
      "[[1.0, -1.1249999999999998, 0.0], [0.0, 1.0, 0.0]]\n",
      "[[1.0, -1.1249999999999998, 0.0], [0.0, 1.0, 0.0]]\n"
     ]
    },
    {
     "data": {
      "text/plain": [
       "[0.0, 0.0]"
      ]
     },
     "execution_count": 132,
     "metadata": {},
     "output_type": "execute_result"
    }
   ],
   "source": [
    "# Kiểm tra cột j có toàn là 0 hay không\n",
    "def checkColumnFull0(A,j):\n",
    "    for i in range(len(A)):\n",
    "        if (A[i][j]!=0):\n",
    "            return False\n",
    "    return True\n",
    "A = [[0,2,3],[0,5,6],[0,8,9]]\n",
    "checkColumnFull0(A,1)\n",
    "\n",
    "def Gauss(A):\n",
    "    resultA=[]\n",
    "    while len(A)!=0:\n",
    "    #     B1\n",
    "        defC=0\n",
    "        for j in range(len(A[0])):\n",
    "            if (not checkColumnFull0(A,j)):\n",
    "                defC=j\n",
    "                break\n",
    "    #     B2\n",
    "        if (A[0][defC]!=0):\n",
    "            for i in range(len(A)):\n",
    "                if A[i][defC]!=0:\n",
    "                    A=swapRow(A,i,0)\n",
    "                    break\n",
    "    #     B3\n",
    "        if (A[0][defC]!=0):\n",
    "            k=1/A[0][defC]\n",
    "            A=rowMultK(A,0,k)\n",
    "        resultA.append(A[0])\n",
    "    #     B4\n",
    "        for i in range(len(A)):\n",
    "            if (i==0):\n",
    "                continue\n",
    "            A=rowMinusKRow(A,i,0,A[i][defC])\n",
    "        A.pop(0)\n",
    "    return resultA\n",
    "A=[[1,2,-1,-1],[2,2,1,1],[3,5,-2,-1]]\n",
    "Gauss(A)\n",
    "B=[[1,-2,-1,1],[2,-3,1,6],[3,-5,0,7],[1,0,5,9]]\n",
    "Gauss(B)\n",
    "\n",
    "def taoMtrBS(A,b):\n",
    "    for i in range(len(A)):\n",
    "        A[i].append(b[i])\n",
    "    return A\n",
    "\n",
    "def delRow0(A1):\n",
    "    stack=[]\n",
    "    A=A1.copy()\n",
    "    for i in range(len(A)):\n",
    "        isFull0=True\n",
    "        for j in range(len(A[i])):\n",
    "            if (A[i][j]!=0):\n",
    "                isFull0=False\n",
    "                break\n",
    "        if (isFull0):\n",
    "            stack.append(i)\n",
    "#     print(stack)\n",
    "#     Vòng for ngược từ cuối về 0\n",
    "    for i in range(len(stack)-1,-1,-1):\n",
    "        A.pop(stack[i])\n",
    "    return A\n",
    "            \n",
    "def solveMatrix(A,b):\n",
    "    if (len(A)!=len(b)):\n",
    "        print('Error input')\n",
    "        return None\n",
    "    Abs=taoMtrBS(A,b)\n",
    "    print(Abs)\n",
    "    Abs=Gauss(Abs)\n",
    "    print(Abs)\n",
    "    Aclear=delRow0(Abs)\n",
    "    if (len(Aclear)==len(Aclear[0])-1):\n",
    "        Abs=Aclear\n",
    "    print(Abs)\n",
    "    if (Abs[len(Abs)-1][len(Abs[0])-2]==0):\n",
    "        if (Abs[len(Abs)-1][len(Abs[0])-1]==0):\n",
    "            print('Hệ phương trình vô số nghiệm')\n",
    "            return None\n",
    "        else:\n",
    "            print('Hệ phương trình vô nghiệm')\n",
    "            return None\n",
    "    if (len(Abs[0])-1>len(Abs)):\n",
    "            print('Hệ phương trình vô số nghiệm')\n",
    "            return None\n",
    "#     Phương pháp thế ngược\n",
    "#     Khởi tạo giá trị tạm thời cho vector nghiệm X\n",
    "    X=[]\n",
    "    for i in range(len(Abs[0])-1):\n",
    "        X.append(0)\n",
    "    n=len(Abs)\n",
    "    for i in range(1,n+1):\n",
    "        sum=0\n",
    "        for j in range (1,i):\n",
    "            sum+=X[n-j]*Abs[n-i][n-j]\n",
    "        X[n-i]=(Abs[n-i][n]-sum)/Abs[n-i][n-i]\n",
    "    return X\n",
    "\n",
    "# A=[[1,-2,-1],[2,-3,1],[3,-5,0],[1,0,5]]\n",
    "# b=[1,6,7,9]\n",
    "# solveMatrix(A,b)\n",
    "\n",
    "\n",
    "A=[[1,2,-1],[2,2,1],[3,5,-2]]\n",
    "b=[-1,1,-1]\n",
    "solveMatrix(A,b)\n",
    "a= [[0.6666666666666667, -0.75], [-0.6666666666666666, 0.75]]\n",
    "b=[0,0]\n",
    "solveMatrix(a,b)"
   ]
  },
  {
   "cell_type": "markdown",
   "metadata": {},
   "source": [
    "# 11) Tạo ma trận gồm toàn số 0"
   ]
  },
  {
   "cell_type": "code",
   "execution_count": 15,
   "metadata": {},
   "outputs": [
    {
     "data": {
      "text/plain": [
       "[[0, 0], [0, 0]]"
      ]
     },
     "execution_count": 15,
     "metadata": {},
     "output_type": "execute_result"
    }
   ],
   "source": [
    "# ma trận 0\n",
    "def maxtrix0(n):\n",
    "    return [[0]*n]*n;\n",
    "maxtrix0(2)"
   ]
  },
  {
   "cell_type": "code",
   "execution_count": 16,
   "metadata": {},
   "outputs": [
    {
     "data": {
      "text/plain": [
       "[[0, 0, 0, 0, 0, 0, 0],\n",
       " [0, 0, 0, 0, 0, 0, 0],\n",
       " [0, 0, 0, 0, 0, 0, 0],\n",
       " [0, 0, 0, 0, 0, 0, 0],\n",
       " [0, 0, 0, 0, 0, 0, 0],\n",
       " [0, 0, 0, 0, 0, 0, 0],\n",
       " [0, 0, 0, 0, 0, 0, 0]]"
      ]
     },
     "execution_count": 16,
     "metadata": {},
     "output_type": "execute_result"
    }
   ],
   "source": [
    "# ma trận 0\n",
    "def matran0(n):\n",
    "    return [[0 for i in range(n)] for j in range(n)];\n",
    "matran0(7)"
   ]
  },
  {
   "cell_type": "markdown",
   "metadata": {},
   "source": [
    "# 12) Tạo ma trận gồm toàn số 1"
   ]
  },
  {
   "cell_type": "code",
   "execution_count": 260,
   "metadata": {},
   "outputs": [
    {
     "data": {
      "text/plain": [
       "[[1, 1, 1, 1, 1, 1, 1, 1, 1, 1, 1, 1],\n",
       " [1, 1, 1, 1, 1, 1, 1, 1, 1, 1, 1, 1],\n",
       " [1, 1, 1, 1, 1, 1, 1, 1, 1, 1, 1, 1],\n",
       " [1, 1, 1, 1, 1, 1, 1, 1, 1, 1, 1, 1],\n",
       " [1, 1, 1, 1, 1, 1, 1, 1, 1, 1, 1, 1],\n",
       " [1, 1, 1, 1, 1, 1, 1, 1, 1, 1, 1, 1],\n",
       " [1, 1, 1, 1, 1, 1, 1, 1, 1, 1, 1, 1],\n",
       " [1, 1, 1, 1, 1, 1, 1, 1, 1, 1, 1, 1],\n",
       " [1, 1, 1, 1, 1, 1, 1, 1, 1, 1, 1, 1],\n",
       " [1, 1, 1, 1, 1, 1, 1, 1, 1, 1, 1, 1],\n",
       " [1, 1, 1, 1, 1, 1, 1, 1, 1, 1, 1, 1],\n",
       " [1, 1, 1, 1, 1, 1, 1, 1, 1, 1, 1, 1]]"
      ]
     },
     "execution_count": 260,
     "metadata": {},
     "output_type": "execute_result"
    }
   ],
   "source": [
    "def maxtrix1(n):\n",
    "    return [[1]*n]*n;\n",
    "maxtrix1(12)"
   ]
  },
  {
   "cell_type": "markdown",
   "metadata": {},
   "source": [
    "# 13) Tạo ma trận đơn vị"
   ]
  },
  {
   "cell_type": "code",
   "execution_count": 116,
   "metadata": {},
   "outputs": [
    {
     "data": {
      "text/plain": [
       "[[1, 0, 0, 0, 0, 0, 0],\n",
       " [0, 1, 0, 0, 0, 0, 0],\n",
       " [0, 0, 1, 0, 0, 0, 0],\n",
       " [0, 0, 0, 1, 0, 0, 0],\n",
       " [0, 0, 0, 0, 1, 0, 0],\n",
       " [0, 0, 0, 0, 0, 1, 0],\n",
       " [0, 0, 0, 0, 0, 0, 1]]"
      ]
     },
     "execution_count": 116,
     "metadata": {},
     "output_type": "execute_result"
    }
   ],
   "source": [
    "# ma trận I\n",
    "def matranI(n):\n",
    "    return [[1 if i==j else 0 for j in range(n)] for i in range(n)];\n",
    "matranI(7)"
   ]
  },
  {
   "cell_type": "markdown",
   "metadata": {},
   "source": [
    "# 14) Tạo dãy số ngẫu nhiên gồm n số"
   ]
  },
  {
   "cell_type": "code",
   "execution_count": 20,
   "metadata": {},
   "outputs": [
    {
     "data": {
      "text/plain": [
       "[58, 72, 27, 64, 4, 100, 21, 22, 99, 95]"
      ]
     },
     "execution_count": 20,
     "metadata": {},
     "output_type": "execute_result"
    }
   ],
   "source": [
    "import random\n",
    "def createRandom(n):\n",
    "    return [random.randint(0,100) for i in range(n)]\n",
    "createRandom(10)"
   ]
  },
  {
   "cell_type": "markdown",
   "metadata": {},
   "source": [
    "# 15) Tạo dãy số ngẫu nhiên gồm n số sao cho tổng của các số là 100"
   ]
  },
  {
   "cell_type": "code",
   "execution_count": 257,
   "metadata": {},
   "outputs": [
    {
     "name": "stdout",
     "output_type": "stream",
     "text": [
      "101\n",
      "1\n",
      "[5, 2, 7, 12, 2, 8, 10, 11, 11, 6, 0, 13, 4, 7, 3]\n",
      "[4, 2, 7, 12, 2, 8, 10, 11, 11, 6, 0, 13, 4, 7, 3]\n",
      "100\n"
     ]
    }
   ],
   "source": [
    "# Tạo dãy số ngẫu nhiên n số có tổng 100\n",
    "# Dãy số đều dương (ràng buộc tự thêm)\n",
    "import random\n",
    "def randomSum100(n):\n",
    "    DEFSUM=100\n",
    "    res=[]\n",
    "    sum=0\n",
    "    for i in range(n):\n",
    "        res.append(random.randint(0,100))\n",
    "        sum+=res[i]\n",
    "    sum2=0\n",
    "    for i in range(n):\n",
    "        res[i]=round(res[i]*DEFSUM/sum)\n",
    "        sum2+=res[i]\n",
    "    sodu=sum2-DEFSUM\n",
    "    print(sum2)\n",
    "    print(sodu)\n",
    "    print(res)\n",
    "    if sodu<0:\n",
    "        res[0]+=-sodu   \n",
    "    elif sodu>0:\n",
    "#         res[0]-=sodu\n",
    "        for i in range(n):\n",
    "            if (res[i]>=sodu):\n",
    "                res[i]-=sodu\n",
    "                break\n",
    "    return res\n",
    "v=randomSum100(15)\n",
    "print(v)\n",
    "sum=0\n",
    "for vi in v:\n",
    "    sum+=vi\n",
    "print(sum)"
   ]
  },
  {
   "cell_type": "markdown",
   "metadata": {},
   "source": [
    "# Tạo dãy n số ngẫu nhiên có tổng bằng 1"
   ]
  },
  {
   "cell_type": "code",
   "execution_count": 34,
   "metadata": {},
   "outputs": [
    {
     "name": "stdout",
     "output_type": "stream",
     "text": [
      "[0.08590582645995846, 0.07824066385247952, 0.024609588257013728, 0.10507685226194179, 0.09745991118571341, 0.013986976236923212, 0.08909302577813444, 0.11553568807693426, 0.05186658015850937, 0.04576795027132137, 0.09162289784898571, 0.07673745875707615, 0.012345845906508859, 0.056279134592551384, 0.055471600355948204]\n",
      "0.9999999999999999\n"
     ]
    }
   ],
   "source": [
    "# Áp dụng cho xác suất\n",
    "import random\n",
    "def randomSum1(n):\n",
    "    DEFSUM=1\n",
    "    res=[]\n",
    "    sum=0\n",
    "    for i in range(n):\n",
    "        res.append(random.uniform(0,100))\n",
    "        sum+=res[i]\n",
    "    sum2=0\n",
    "    for i in range(n):\n",
    "        res[i]=(res[i]*DEFSUM/sum)\n",
    "        sum2+=res[i]\n",
    "    return res\n",
    "v=randomSum1(15)\n",
    "print(v)\n",
    "sum=0\n",
    "for vi in v:\n",
    "    sum+=vi\n",
    "print(sum)"
   ]
  },
  {
   "cell_type": "code",
   "execution_count": 218,
   "metadata": {},
   "outputs": [],
   "source": [
    "# Không cần tối ưu, chỉ cần chạy đúng hết trường hợp là 10đ\n"
   ]
  },
  {
   "cell_type": "code",
   "execution_count": null,
   "metadata": {},
   "outputs": [],
   "source": [
    "\n",
    "# giải thuật Gau\n",
    "# mô hình xác suất xíc mác cóp\n",
    "# \n",
    "# cơ sở bỏ\n",
    "# phân rã QR bỏ\n",
    "#"
   ]
  },
  {
   "cell_type": "markdown",
   "metadata": {},
   "source": [
    "# Chuẩn của vector"
   ]
  },
  {
   "cell_type": "code",
   "execution_count": 86,
   "metadata": {},
   "outputs": [
    {
     "data": {
      "text/plain": [
       "3.0"
      ]
     },
     "execution_count": 86,
     "metadata": {},
     "output_type": "execute_result"
    }
   ],
   "source": [
    "import math\n",
    "def chuanVector(x):\n",
    "    res=0\n",
    "    for xi in x:\n",
    "        res+=xi*xi\n",
    "    res=math.sqrt(res)\n",
    "    return res\n",
    "x=[2,-1,2]\n",
    "chuanVector(x)"
   ]
  },
  {
   "cell_type": "code",
   "execution_count": 104,
   "metadata": {
    "scrolled": true
   },
   "outputs": [
    {
     "name": "stdout",
     "output_type": "stream",
     "text": [
      "[0.6125000000000002, 0.38750000000000007]\n",
      "[0.7, 0.2, 0.1]\n",
      "[0.22999999999999998, 0.52, 0.25]\n",
      "[0.273, 0.39599999999999996, 0.331]\n"
     ]
    }
   ],
   "source": [
    "# Tìm pi\n",
    "def Tichvohuong(a,b):\n",
    "    tvh = 0\n",
    "    for i in range(len(a)):\n",
    "        tvh += a[i] * b[i]\n",
    "    return tvh\n",
    "\n",
    "#chuyển vị mtr\n",
    "def tranpose(A):\n",
    "    sodong=len(A)\n",
    "    socot=len(A[0])\n",
    "    return [[A[i][j] for i in range(sodong) ] for j in range(socot)]\n",
    "\n",
    "def Vector_x_Matrix(v,A):\n",
    "    # Số dòng không bằng kích thước của vector\n",
    "    if (len(v)!=len(A)):\n",
    "        print('Kích thước của vector không bằng số dòng trong mtr, vui lòng nhập lại')\n",
    "        return None\n",
    "    result=[]\n",
    "    A=tranpose(A)\n",
    "    for i in range(len(A)):\n",
    "        result.append(Tichvohuong(A[i],v))\n",
    "    return result\n",
    "\n",
    "P = [[0.8,0.2],[0.3,0.7]]\n",
    "pi0 = [1,0]\n",
    "pi1=Vector_x_Matrix(pi0,P)\n",
    "pi2=Vector_x_Matrix(pi1,P)\n",
    "pi3=Vector_x_Matrix(pi2,P)\n",
    "pi4=Vector_x_Matrix(pi3,P)\n",
    "pi5=Vector_x_Matrix(pi4,P)\n",
    "print(pi5)\n",
    "P = [[0.2,0.6,0.2],[0.1,0.4,0.5],[0.7,0.2,0.1]]\n",
    "pi0=[0,0,1]\n",
    "pi1=Vector_x_Matrix(pi0,P)\n",
    "print(pi1)\n",
    "pi2=Vector_x_Matrix(pi1,P)\n",
    "print(pi2)\n",
    "pi3=Vector_x_Matrix(pi2,P)\n",
    "print(pi3)\n"
   ]
  },
  {
   "cell_type": "code",
   "execution_count": 92,
   "metadata": {},
   "outputs": [
    {
     "name": "stdout",
     "output_type": "stream",
     "text": [
      "0  \n",
      "1  \n",
      "2  \n",
      "3  \n",
      "4  \n"
     ]
    }
   ],
   "source": [
    "A=[1,2,3,4,5]\n",
    "for i in range(len(A)):\n",
    "    print(i,' ')"
   ]
  },
  {
   "cell_type": "code",
   "execution_count": 125,
   "metadata": {},
   "outputs": [
    {
     "name": "stdout",
     "output_type": "stream",
     "text": [
      "[[0, 1, 2], [-1, 0, 1], [-1, 0, 1]]\n",
      "[[0.6666666666666667, -0.75], [-0.6666666666666666, 0.75]]\n"
     ]
    }
   ],
   "source": [
    "# Tính hiệu 2 ma trận\n",
    "def tinhhieu2matran(A, B):\n",
    "    if len(A[0])!=len(B[0]) or len(A)!=len(B):\n",
    "        print(\"2 ma trận có số chiều không bằng nhau\")\n",
    "        return None\n",
    "    result=[]\n",
    "    return [[A[i][j]-B[i][j] for j in range(len(A[0]))] for i in range(len(A))];\n",
    "A = [[1,2,3],[1,2,3],[2,3,4]]\n",
    "B = [[1,1,1],[2,2,2],[3,3,3]]\n",
    "print(tinhhieu2matran(A, B))"
   ]
  },
  {
   "cell_type": "code",
   "execution_count": 161,
   "metadata": {},
   "outputs": [
    {
     "name": "stdout",
     "output_type": "stream",
     "text": [
      "a [[0.6666666666666667, -0.5, 0], [-0.3333333333333333, 1, -0.3333333333333333], [-0.3333333333333333, -0.5, 0.25]]\n",
      "[[0.67, -0.5, 0, 0], [-0.33, 1, -0.33, 0], [-0.33, -0.5, 0.25, 0]]\n",
      "[[1.0, -0.7462686567164178, 0.0, 0.0], [0.0, 1.0, -0.43782178217821777, 0.0], [-0.0, -0.0, 1.0, -0.0]]\n",
      "[[1.0, -0.7462686567164178, 0.0, 0.0], [0.0, 1.0, -0.43782178217821777, 0.0], [-0.0, -0.0, 1.0, -0.0]]\n"
     ]
    },
    {
     "data": {
      "text/plain": [
       "[0.0, 0.0, -0.0]"
      ]
     },
     "execution_count": 161,
     "metadata": {},
     "output_type": "execute_result"
    }
   ],
   "source": [
    "# Tìm phân phối dừng\n",
    "# pi = pi*P <=> (I-transpose(P))*transpose(pi)=0 (đưa về dạng AX=0)\n",
    "def TinhPhanPhoiDung(P):\n",
    "    if (len(P)!=(len(P[0]))):\n",
    "        print('Loi! So dong khong bang so cot, moi nhap lai')\n",
    "        return None\n",
    "    I=matranI(len(P))\n",
    "    PT=tranpose(P)\n",
    "    A=tinhhieu2matran(I,PT)\n",
    "    print('a',A)\n",
    "    A=lamtronmatran(A)\n",
    "    result=[]\n",
    "    b=P[0].copy()\n",
    "    for i in range(len(b)):\n",
    "        b[i]=0\n",
    "    result=solveMatrix(A,b)\n",
    "    return result\n",
    "# P=[[1/3,2/3],[3/4,1/4]]\n",
    "# TinhPhanPhoiDung(P)\n",
    "# P=[[0.81,0.19],[0.26,0.74]]\n",
    "# TinhPhanPhoiDung(P)\n",
    "P=[[1/3,1/3,1/3],[1/2,0,1/2],[0,1/3,3/4]]\n",
    "TinhPhanPhoiDung(P)"
   ]
  },
  {
   "cell_type": "code",
   "execution_count": 153,
   "metadata": {},
   "outputs": [
    {
     "data": {
      "text/plain": [
       "[[1.0, -1.368421052631579, 0.0], [0.0, 0.0, 0.0]]"
      ]
     },
     "execution_count": 153,
     "metadata": {},
     "output_type": "execute_result"
    }
   ],
   "source": [
    "\n",
    "P=[[1/3,2/3],[3/4,1/4]]\n",
    "P=[[0.19, -0.26, 0], [-0.19, 0.26, 0]]\n",
    "Gauss(P)"
   ]
  },
  {
   "cell_type": "code",
   "execution_count": 158,
   "metadata": {},
   "outputs": [
    {
     "data": {
      "text/plain": [
       "[[0.19, -0.26, 0], [-0.19, 0.26, 0]]"
      ]
     },
     "execution_count": 158,
     "metadata": {},
     "output_type": "execute_result"
    }
   ],
   "source": [
    "def lamtronmatran(A):\n",
    "    for i in range(len(A)):\n",
    "        for j in range(len(A[i])):\n",
    "            A[i][j]=round(A[i][j],2)\n",
    "    return A\n",
    "P=[[0.18999999999999995, -0.26, 0], [-0.19, 0.26, 0]]\n",
    "lamtronmatran(P)"
   ]
  },
  {
   "cell_type": "code",
   "execution_count": null,
   "metadata": {},
   "outputs": [],
   "source": []
  }
 ],
 "metadata": {
  "kernelspec": {
   "display_name": "Python 3",
   "language": "python",
   "name": "python3"
  },
  "language_info": {
   "codemirror_mode": {
    "name": "ipython",
    "version": 3
   },
   "file_extension": ".py",
   "mimetype": "text/x-python",
   "name": "python",
   "nbconvert_exporter": "python",
   "pygments_lexer": "ipython3",
   "version": "3.8.5"
  }
 },
 "nbformat": 4,
 "nbformat_minor": 4
}
